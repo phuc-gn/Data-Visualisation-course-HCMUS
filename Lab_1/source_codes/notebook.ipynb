{
 "cells": [
  {
   "cell_type": "markdown",
   "metadata": {},
   "source": [
    "## A. Thu thập dữ liệu"
   ]
  },
  {
   "cell_type": "markdown",
   "metadata": {},
   "source": [
    "### Ngữ cảnh và động lực "
   ]
  },
  {
   "cell_type": "markdown",
   "metadata": {},
   "source": [
    "### Nguồn dữ liệu"
   ]
  },
  {
   "cell_type": "markdown",
   "metadata": {},
   "source": [
    "- Tập dữ liệu này được sử dụng cho việc phân tích trong lĩnh vực tiêu thụ năng lượng và điện năng, so sánh tỉ lệ tiêu thụ giữa các quốc gia và khám phá những thay đổi trong xu hướng tiêu thụ năng lượng ở các quốc gia trên thế giới theo thời gian\n",
    "- Tập dữ liệu được thu thập từ trang Kaggle: https://www.kaggle.com/datasets/labisininiolakamal/energy-production-2001-2021.\n",
    "- Tác giá: LABISI NINIOLA KAMAL\n",
    "- License của dataset: Apache 2.0"
   ]
  },
  {
   "cell_type": "markdown",
   "metadata": {},
   "source": [
    "## B. Khám phá dữ liệu"
   ]
  },
  {
   "cell_type": "markdown",
   "metadata": {},
   "source": [
    "### Import thư viện"
   ]
  },
  {
   "cell_type": "code",
   "execution_count": 1,
   "metadata": {
    "tags": []
   },
   "outputs": [],
   "source": [
    "import warnings\n",
    "warnings.filterwarnings('ignore')\n",
    "\n",
    "import os\n",
    "import pandas as pd\n",
    "import matplotlib.pyplot as plt\n",
    "import plotly.graph_objects as go\n",
    "import plotly.express as px\n",
    "import geopandas as gpd"
   ]
  },
  {
   "cell_type": "markdown",
   "metadata": {},
   "source": [
    "### Đọc dữ liệu"
   ]
  },
  {
   "cell_type": "code",
   "execution_count": 2,
   "metadata": {},
   "outputs": [
    {
     "data": {
      "text/html": [
       "<div>\n",
       "<style scoped>\n",
       "    .dataframe tbody tr th:only-of-type {\n",
       "        vertical-align: middle;\n",
       "    }\n",
       "\n",
       "    .dataframe tbody tr th {\n",
       "        vertical-align: top;\n",
       "    }\n",
       "\n",
       "    .dataframe thead th {\n",
       "        text-align: right;\n",
       "    }\n",
       "</style>\n",
       "<table border=\"1\" class=\"dataframe\">\n",
       "  <thead>\n",
       "    <tr style=\"text-align: right;\">\n",
       "      <th></th>\n",
       "      <th>Country</th>\n",
       "      <th>Code</th>\n",
       "      <th>Year</th>\n",
       "      <th>Population</th>\n",
       "      <th>Other renewables excluding bioenergy  (Twh)</th>\n",
       "      <th>Electricity from bioenergy (Twh)</th>\n",
       "      <th>Electricity from solar (Twh)</th>\n",
       "      <th>Electricity from wind  (Twh)</th>\n",
       "      <th>Electricity from hydro (Twh)</th>\n",
       "      <th>Electricity from nuclear(Twh)</th>\n",
       "      <th>...</th>\n",
       "      <th>Annual Co2 emissions</th>\n",
       "      <th>Annual Co2 relativity(%)</th>\n",
       "      <th>Annual Co2 emissions per person</th>\n",
       "      <th>Annual Co2 emissions from coal</th>\n",
       "      <th>Annual Co2 emissions from gas</th>\n",
       "      <th>Annual Co2 emissions from oil</th>\n",
       "      <th>Access to electricity (% of population)</th>\n",
       "      <th>access to electricity (percentile)</th>\n",
       "      <th>Access to electricity (population)</th>\n",
       "      <th>Primary energy consumption per capita (kWh/person)</th>\n",
       "    </tr>\n",
       "  </thead>\n",
       "  <tbody>\n",
       "    <tr>\n",
       "      <th>0</th>\n",
       "      <td>Afghanistan</td>\n",
       "      <td>AFG</td>\n",
       "      <td>2001</td>\n",
       "      <td>19,688,634</td>\n",
       "      <td>0.0</td>\n",
       "      <td>0.0</td>\n",
       "      <td>0.0</td>\n",
       "      <td>0.0</td>\n",
       "      <td>0.50</td>\n",
       "      <td>0.0</td>\n",
       "      <td>...</td>\n",
       "      <td>1,069,098</td>\n",
       "      <td>0</td>\n",
       "      <td>0.05</td>\n",
       "      <td>69,616</td>\n",
       "      <td>208,848</td>\n",
       "      <td>762,112</td>\n",
       "      <td>4.07</td>\n",
       "      <td>0.04</td>\n",
       "      <td>802,228</td>\n",
       "      <td>237</td>\n",
       "    </tr>\n",
       "    <tr>\n",
       "      <th>1</th>\n",
       "      <td>Afghanistan</td>\n",
       "      <td>AFG</td>\n",
       "      <td>2004</td>\n",
       "      <td>23,553,554</td>\n",
       "      <td>0.0</td>\n",
       "      <td>0.0</td>\n",
       "      <td>0.0</td>\n",
       "      <td>0.0</td>\n",
       "      <td>0.56</td>\n",
       "      <td>0.0</td>\n",
       "      <td>...</td>\n",
       "      <td>1,237,247</td>\n",
       "      <td>16</td>\n",
       "      <td>0.05</td>\n",
       "      <td>91,600</td>\n",
       "      <td>227,168</td>\n",
       "      <td>908,672</td>\n",
       "      <td>20.06</td>\n",
       "      <td>0.20</td>\n",
       "      <td>4,726,013</td>\n",
       "      <td>204</td>\n",
       "    </tr>\n",
       "    <tr>\n",
       "      <th>2</th>\n",
       "      <td>Afghanistan</td>\n",
       "      <td>AFG</td>\n",
       "      <td>2002</td>\n",
       "      <td>21,000,258</td>\n",
       "      <td>0.0</td>\n",
       "      <td>0.0</td>\n",
       "      <td>0.0</td>\n",
       "      <td>0.0</td>\n",
       "      <td>0.56</td>\n",
       "      <td>0.0</td>\n",
       "      <td>...</td>\n",
       "      <td>1,340,995</td>\n",
       "      <td>8</td>\n",
       "      <td>0.06</td>\n",
       "      <td>55,109</td>\n",
       "      <td>547,416</td>\n",
       "      <td>727,438</td>\n",
       "      <td>9.41</td>\n",
       "      <td>0.09</td>\n",
       "      <td>1,975,947</td>\n",
       "      <td>211</td>\n",
       "    </tr>\n",
       "    <tr>\n",
       "      <th>3</th>\n",
       "      <td>Afghanistan</td>\n",
       "      <td>AFG</td>\n",
       "      <td>2003</td>\n",
       "      <td>22,645,136</td>\n",
       "      <td>0.0</td>\n",
       "      <td>0.0</td>\n",
       "      <td>0.0</td>\n",
       "      <td>0.0</td>\n",
       "      <td>0.63</td>\n",
       "      <td>0.0</td>\n",
       "      <td>...</td>\n",
       "      <td>1,559,602</td>\n",
       "      <td>16</td>\n",
       "      <td>0.07</td>\n",
       "      <td>91,813</td>\n",
       "      <td>466,408</td>\n",
       "      <td>991,575</td>\n",
       "      <td>14.74</td>\n",
       "      <td>0.15</td>\n",
       "      <td>3,337,555</td>\n",
       "      <td>230</td>\n",
       "    </tr>\n",
       "    <tr>\n",
       "      <th>4</th>\n",
       "      <td>Afghanistan</td>\n",
       "      <td>AFG</td>\n",
       "      <td>2005</td>\n",
       "      <td>24,411,196</td>\n",
       "      <td>0.0</td>\n",
       "      <td>0.0</td>\n",
       "      <td>0.0</td>\n",
       "      <td>0.0</td>\n",
       "      <td>0.59</td>\n",
       "      <td>0.0</td>\n",
       "      <td>...</td>\n",
       "      <td>1,889,507</td>\n",
       "      <td>21</td>\n",
       "      <td>0.08</td>\n",
       "      <td>106,256</td>\n",
       "      <td>329,760</td>\n",
       "      <td>1,447,280</td>\n",
       "      <td>25.39</td>\n",
       "      <td>0.25</td>\n",
       "      <td>6,198,221</td>\n",
       "      <td>252</td>\n",
       "    </tr>\n",
       "  </tbody>\n",
       "</table>\n",
       "<p>5 rows × 23 columns</p>\n",
       "</div>"
      ],
      "text/plain": [
       "       Country Code  Year  Population  \\\n",
       "0  Afghanistan  AFG  2001  19,688,634   \n",
       "1  Afghanistan  AFG  2004  23,553,554   \n",
       "2  Afghanistan  AFG  2002  21,000,258   \n",
       "3  Afghanistan  AFG  2003  22,645,136   \n",
       "4  Afghanistan  AFG  2005  24,411,196   \n",
       "\n",
       "   Other renewables excluding bioenergy  (Twh)  \\\n",
       "0                                          0.0   \n",
       "1                                          0.0   \n",
       "2                                          0.0   \n",
       "3                                          0.0   \n",
       "4                                          0.0   \n",
       "\n",
       "   Electricity from bioenergy (Twh)  Electricity from solar (Twh)  \\\n",
       "0                               0.0                           0.0   \n",
       "1                               0.0                           0.0   \n",
       "2                               0.0                           0.0   \n",
       "3                               0.0                           0.0   \n",
       "4                               0.0                           0.0   \n",
       "\n",
       "   Electricity from wind  (Twh)  Electricity from hydro (Twh)  \\\n",
       "0                           0.0                          0.50   \n",
       "1                           0.0                          0.56   \n",
       "2                           0.0                          0.56   \n",
       "3                           0.0                          0.63   \n",
       "4                           0.0                          0.59   \n",
       "\n",
       "   Electricity from nuclear(Twh)  ...  Annual Co2 emissions  \\\n",
       "0                            0.0  ...             1,069,098   \n",
       "1                            0.0  ...             1,237,247   \n",
       "2                            0.0  ...             1,340,995   \n",
       "3                            0.0  ...             1,559,602   \n",
       "4                            0.0  ...             1,889,507   \n",
       "\n",
       "   Annual Co2 relativity(%)  Annual Co2 emissions per person  \\\n",
       "0                         0                             0.05   \n",
       "1                        16                             0.05   \n",
       "2                         8                             0.06   \n",
       "3                        16                             0.07   \n",
       "4                        21                             0.08   \n",
       "\n",
       "  Annual Co2 emissions from coal Annual Co2 emissions from gas  \\\n",
       "0                         69,616                       208,848   \n",
       "1                         91,600                       227,168   \n",
       "2                         55,109                       547,416   \n",
       "3                         91,813                       466,408   \n",
       "4                        106,256                       329,760   \n",
       "\n",
       "   Annual Co2 emissions from oil Access to electricity (% of population)  \\\n",
       "0                        762,112                                    4.07   \n",
       "1                        908,672                                   20.06   \n",
       "2                        727,438                                    9.41   \n",
       "3                        991,575                                   14.74   \n",
       "4                      1,447,280                                   25.39   \n",
       "\n",
       "  access to electricity (percentile) Access to electricity (population)  \\\n",
       "0                               0.04                            802,228   \n",
       "1                               0.20                          4,726,013   \n",
       "2                               0.09                          1,975,947   \n",
       "3                               0.15                          3,337,555   \n",
       "4                               0.25                          6,198,221   \n",
       "\n",
       "   Primary energy consumption per capita (kWh/person)  \n",
       "0                                                237   \n",
       "1                                                204   \n",
       "2                                                211   \n",
       "3                                                230   \n",
       "4                                                252   \n",
       "\n",
       "[5 rows x 23 columns]"
      ]
     },
     "execution_count": 2,
     "metadata": {},
     "output_type": "execute_result"
    }
   ],
   "source": [
    "current_directory = os.getcwd()\n",
    "relative_path = \"../datasets/Energy generataion data (2000-2021).csv\"\n",
    "\n",
    "file_path = os.path.join(current_directory, relative_path)\n",
    "raw_df = pd.read_csv(file_path, encoding='latin1')\n",
    "raw_df.head(5)"
   ]
  },
  {
   "cell_type": "markdown",
   "metadata": {},
   "source": [
    "### Tập dữ liệu có bao nhiêu dòng, cột?"
   ]
  },
  {
   "cell_type": "code",
   "execution_count": 3,
   "metadata": {},
   "outputs": [
    {
     "name": "stdout",
     "output_type": "stream",
     "text": [
      "Có 4307 dòng và 23 cột\n"
     ]
    }
   ],
   "source": [
    "shape = raw_df.shape\n",
    "print(f'Có {shape[0]} dòng và {shape[1]} cột')"
   ]
  },
  {
   "cell_type": "markdown",
   "metadata": {},
   "source": [
    "### Mỗi dòng có ý nghĩa gì? Có vấn đề các dòng có ý nghĩa khác nhau không?"
   ]
  },
  {
   "cell_type": "markdown",
   "metadata": {},
   "source": [
    "- Mỗi dòng trong dataset này cung cấp thông tin chi tiết về sự tiêu thụ các loại năng lượng và tác động môi trường của năng lượng(dựa vào độ đo CO2) trong một quốc gia vào một năm cụ thể.\n",
    "- Nếu các dòng có ý nghĩa khác nhau sẽ làm cho tính tin cậy của tập dữ liệu bị giảm đi và có thể dẫn đến một vài sự nhầm lẫn và tính nhất quán giữa chúng."
   ]
  },
  {
   "cell_type": "markdown",
   "metadata": {},
   "source": [
    "### Mỗi cột có ý nghĩa gì?\n"
   ]
  },
  {
   "cell_type": "code",
   "execution_count": 4,
   "metadata": {},
   "outputs": [],
   "source": [
    "new_column_names = {\n",
    "    \"Country\": \"country\",\n",
    "    \"Code\": \"code\",\n",
    "    \"Year\": \"year\",\n",
    "    \"Population\": \"population\",\n",
    "    \"Other renewables excluding bioenergy (Twh)\": \"renewables_excl_bioenergy\",\n",
    "    \"Electricity from bioenergy (Twh)\": \"bioenergy_electricity\",\n",
    "    \"Electricity from solar (Twh)\": \"solar_electricity\",\n",
    "    \"Electricity from wind  (Twh)\": \"wind_electricity\",\n",
    "    \"Electricity from hydro (Twh)\": \"hydro_electricity\",\n",
    "    \"Electricity from nuclear(Twh)\": \"nuclear_electricity\",\n",
    "    \"Electricity from oil  (Twh)\": \"oil_electricity\",\n",
    "    \"Electricity from gas  (Twh)\": \"gas_electricity\",\n",
    "    \"Electricity from coal  (Twh)\": \"coal_electricity\",\n",
    "    \"Annual Co2 emissions\": \"co2_emissions\",\n",
    "    \"Annual Co2 relativity(%)\": \"co2_relativity_percent\",\n",
    "    \"Annual Co2 emissions per person\": \"co2_emissions_per_person\",\n",
    "    \"Annual Co2 emissions from coal\": \"co2_emissions_from_coal\",\n",
    "    \"Annual Co2 emissions from gas\": \"co2_emissions_from_gas\",\n",
    "    \"Annual Co2 emissions from oil\": \"co2_emissions_from_oil\",\n",
    "    \"Access to electricity (% of population)\": \"access_to_electricity_percent\",\n",
    "    \"access to electricity (percentile)\": \"access_to_electricity_percentile\",\n",
    "    \"Access to electricity (population)\": \"access_to_electricity_population\",\n",
    "    \"Primary energy consumption per capita (kWh/person)\": \"primary_energy_consumption_per_capita\"\n",
    "}\n",
    "\n",
    "raw_df = raw_df.rename(columns=new_column_names)"
   ]
  },
  {
   "cell_type": "markdown",
   "metadata": {},
   "source": [
    "| Tên cột                                       | Ý nghĩa                                    |\n",
    "|-----------------------------------------------|--------------------------------------------------------------------|\n",
    "| country                                       | Tên quốc gia                                                       |\n",
    "| code                                          | Mã định danh cho quốc gia                                          |\n",
    "| year                                          | Năm                                                                |\n",
    "| population                                    | Dân số của quốc gia trong năm đó                                  |\n",
    "| renewables_excl_bioenergy                    | Số lượng điện từ các nguồn tái tạo khác ngoại trừ bioenergy (Twh) |\n",
    "| bioenergy_electricity                        | Số lượng điện từ bioenergy (Twh)                                  |\n",
    "| solar_electricity                            | Số lượng điện từ năng lượng mặt trời (Twh)                       |\n",
    "| wind_electricity                             | Số lượng điện từ năng lượng gió (Twh)                            |\n",
    "| hydro_electricity                            | Số lượng điện từ năng lượng thủy điện (Twh)                      |\n",
    "| nuclear_electricity                          | Số lượng điện từ năng lượng hạt nhân (Twh)                       |\n",
    "| oil_electricity                              | Số lượng điện từ năng lượng dầu (Twh)                            |\n",
    "| gas_electricity                              | Số lượng điện từ năng lượng khí (Twh)                            |\n",
    "| coal_electricity                             | Số lượng điện từ năng lượng than (Twh)                           |\n",
    "| co2_emissions                                | Lượng khí CO2 thải ra hàng năm                                    |\n",
    "| co2_relativity_percent                       | Tỉ lệ CO2 so với tổng lượng CO2 thải ra trên thế giới (%)       |\n",
    "| co2_emissions_per_person                     | Lượng khí CO2 thải ra trung bình trên mỗi người dân hằng năm        |\n",
    "| co2_emissions_from_coal                      | Lượng khí CO2 thải ra từ năng lượng than hàng năm               |\n",
    "| co2_emissions_from_gas                       | Lượng khí CO2 thải ra từ năng lượng khí hàng năm                |\n",
    "| co2_emissions_from_oil                       | Lượng khí CO2 thải ra từ năng lượng dầu hàng năm                |\n",
    "| access_to_electricity_percent                | Tỷ lệ dân số có quyền truy cập vào điện năng (%)               |\n",
    "| access_to_electricity_percentile             | Phân vị của quốc gia về quyền truy cập vào điện năng           |\n",
    "| access_to_electricity_population             | Số lượng dân số có quyền truy cập vào điện năng trong quốc gia |\n",
    "| primary_energy_consumption_per_capita        | Tiêu thụ năng lượng chính trên mỗi người dân (kWh/người)       |\n"
   ]
  },
  {
   "cell_type": "markdown",
   "metadata": {},
   "source": [
    "### Liệu có các dòng nào bị trùng lặp không?"
   ]
  },
  {
   "cell_type": "code",
   "execution_count": 5,
   "metadata": {},
   "outputs": [
    {
     "data": {
      "text/plain": [
       "0"
      ]
     },
     "execution_count": 5,
     "metadata": {},
     "output_type": "execute_result"
    }
   ],
   "source": [
    "duplicate_rows = raw_df[raw_df.duplicated()]\n",
    "duplicate_rows.shape[0]"
   ]
  },
  {
   "cell_type": "markdown",
   "metadata": {},
   "source": [
    "Tập dữ liệu này không có dòng nào bị trùng lặp!"
   ]
  },
  {
   "cell_type": "markdown",
   "metadata": {},
   "source": [
    "### Mỗi cột hiện đang có kiểu dữ liệu gì?"
   ]
  },
  {
   "cell_type": "code",
   "execution_count": 6,
   "metadata": {},
   "outputs": [
    {
     "data": {
      "text/plain": [
       "country                                         object\n",
       "code                                            object\n",
       "year                                             int64\n",
       "population                                      object\n",
       "Other renewables excluding bioenergy  (Twh)    float64\n",
       "bioenergy_electricity                          float64\n",
       "solar_electricity                              float64\n",
       "wind_electricity                               float64\n",
       "hydro_electricity                              float64\n",
       "nuclear_electricity                            float64\n",
       "oil_electricity                                float64\n",
       "gas_electricity                                float64\n",
       "coal_electricity                               float64\n",
       "co2_emissions                                   object\n",
       "co2_relativity_percent                          object\n",
       "co2_emissions_per_person                       float64\n",
       "co2_emissions_from_coal                         object\n",
       "co2_emissions_from_gas                          object\n",
       "co2_emissions_from_oil                          object\n",
       "access_to_electricity_percent                  float64\n",
       "access_to_electricity_percentile               float64\n",
       "access_to_electricity_population                object\n",
       "primary_energy_consumption_per_capita           object\n",
       "dtype: object"
      ]
     },
     "execution_count": 6,
     "metadata": {},
     "output_type": "execute_result"
    }
   ],
   "source": [
    "raw_df.dtypes"
   ]
  },
  {
   "cell_type": "markdown",
   "metadata": {},
   "source": [
    "Dựa vào kết quả trên, các cột `population`, `co2_emissions`, `co2_relativity_percent`, `co2_emissions_from_coal`, `co2_emissions_from_gas`, `co2_emissions_from_oil`, `access_to_electricity_population`, `primary_energy_consumption_per_capita` có kiểu dữ liệu không hợp lí.\n",
    "- Do đó cần phải chuyển các cột trên thành các cột có kiểu dữ liệu dạng số.\n",
    "- Theo quan sát các cột này trong file dữ liệu, lí do các cột này không phải là các cột kiểu dữ liệu dạng số bởi vì có chứa dấu `','`, nên trước khi astype các cột này, phải xử lí các kí tự ngoại lệ trước!"
   ]
  },
  {
   "cell_type": "code",
   "execution_count": 7,
   "metadata": {},
   "outputs": [],
   "source": [
    "def replace_comma(string):\n",
    "    return string.replace(',', '')\n",
    "commas_cols = ['population', 'co2_emissions', 'co2_relativity_percent', 'co2_emissions_from_coal', 'co2_emissions_from_gas', 'co2_emissions_from_oil', 'access_to_electricity_population', 'primary_energy_consumption_per_capita']\n",
    "raw_df[commas_cols] = raw_df[commas_cols].apply(lambda x: x.str.replace(',', '') if x.dtype == 'O' else x)\n",
    "\n",
    "raw_df[commas_cols] = raw_df[commas_cols].apply(pd.to_numeric)"
   ]
  },
  {
   "cell_type": "code",
   "execution_count": 8,
   "metadata": {},
   "outputs": [
    {
     "data": {
      "text/plain": [
       "country                                         object\n",
       "code                                            object\n",
       "year                                             int64\n",
       "population                                       int64\n",
       "Other renewables excluding bioenergy  (Twh)    float64\n",
       "bioenergy_electricity                          float64\n",
       "solar_electricity                              float64\n",
       "wind_electricity                               float64\n",
       "hydro_electricity                              float64\n",
       "nuclear_electricity                            float64\n",
       "oil_electricity                                float64\n",
       "gas_electricity                                float64\n",
       "coal_electricity                               float64\n",
       "co2_emissions                                    int64\n",
       "co2_relativity_percent                           int64\n",
       "co2_emissions_per_person                       float64\n",
       "co2_emissions_from_coal                          int64\n",
       "co2_emissions_from_gas                           int64\n",
       "co2_emissions_from_oil                           int64\n",
       "access_to_electricity_percent                  float64\n",
       "access_to_electricity_percentile               float64\n",
       "access_to_electricity_population                 int64\n",
       "primary_energy_consumption_per_capita          float64\n",
       "dtype: object"
      ]
     },
     "execution_count": 8,
     "metadata": {},
     "output_type": "execute_result"
    }
   ],
   "source": [
    "raw_df.dtypes"
   ]
  },
  {
   "cell_type": "markdown",
   "metadata": {},
   "source": [
    "### Với mỗi cột có kiểu là dữ liệu số, những giá trị trong cột đó được phân bố như thế nào?"
   ]
  },
  {
   "cell_type": "code",
   "execution_count": 9,
   "metadata": {},
   "outputs": [
    {
     "data": {
      "text/html": [
       "<div>\n",
       "<style scoped>\n",
       "    .dataframe tbody tr th:only-of-type {\n",
       "        vertical-align: middle;\n",
       "    }\n",
       "\n",
       "    .dataframe tbody tr th {\n",
       "        vertical-align: top;\n",
       "    }\n",
       "\n",
       "    .dataframe thead th {\n",
       "        text-align: right;\n",
       "    }\n",
       "</style>\n",
       "<table border=\"1\" class=\"dataframe\">\n",
       "  <thead>\n",
       "    <tr style=\"text-align: right;\">\n",
       "      <th></th>\n",
       "      <th>year</th>\n",
       "      <th>population</th>\n",
       "      <th>Other renewables excluding bioenergy  (Twh)</th>\n",
       "      <th>bioenergy_electricity</th>\n",
       "      <th>solar_electricity</th>\n",
       "      <th>wind_electricity</th>\n",
       "      <th>hydro_electricity</th>\n",
       "      <th>nuclear_electricity</th>\n",
       "      <th>oil_electricity</th>\n",
       "      <th>gas_electricity</th>\n",
       "      <th>...</th>\n",
       "      <th>co2_emissions</th>\n",
       "      <th>co2_relativity_percent</th>\n",
       "      <th>co2_emissions_per_person</th>\n",
       "      <th>co2_emissions_from_coal</th>\n",
       "      <th>co2_emissions_from_gas</th>\n",
       "      <th>co2_emissions_from_oil</th>\n",
       "      <th>access_to_electricity_percent</th>\n",
       "      <th>access_to_electricity_percentile</th>\n",
       "      <th>access_to_electricity_population</th>\n",
       "      <th>primary_energy_consumption_per_capita</th>\n",
       "    </tr>\n",
       "  </thead>\n",
       "  <tbody>\n",
       "    <tr>\n",
       "      <th>0</th>\n",
       "      <td>2001</td>\n",
       "      <td>19688634</td>\n",
       "      <td>0.0</td>\n",
       "      <td>0.0</td>\n",
       "      <td>0.0</td>\n",
       "      <td>0.0</td>\n",
       "      <td>0.50</td>\n",
       "      <td>0.0</td>\n",
       "      <td>0.09</td>\n",
       "      <td>0.0</td>\n",
       "      <td>...</td>\n",
       "      <td>1069098</td>\n",
       "      <td>0</td>\n",
       "      <td>0.05</td>\n",
       "      <td>69616</td>\n",
       "      <td>208848</td>\n",
       "      <td>762112</td>\n",
       "      <td>4.07</td>\n",
       "      <td>0.04</td>\n",
       "      <td>802228</td>\n",
       "      <td>237.0</td>\n",
       "    </tr>\n",
       "    <tr>\n",
       "      <th>1</th>\n",
       "      <td>2004</td>\n",
       "      <td>23553554</td>\n",
       "      <td>0.0</td>\n",
       "      <td>0.0</td>\n",
       "      <td>0.0</td>\n",
       "      <td>0.0</td>\n",
       "      <td>0.56</td>\n",
       "      <td>0.0</td>\n",
       "      <td>0.33</td>\n",
       "      <td>0.0</td>\n",
       "      <td>...</td>\n",
       "      <td>1237247</td>\n",
       "      <td>16</td>\n",
       "      <td>0.05</td>\n",
       "      <td>91600</td>\n",
       "      <td>227168</td>\n",
       "      <td>908672</td>\n",
       "      <td>20.06</td>\n",
       "      <td>0.20</td>\n",
       "      <td>4726013</td>\n",
       "      <td>204.0</td>\n",
       "    </tr>\n",
       "    <tr>\n",
       "      <th>2</th>\n",
       "      <td>2002</td>\n",
       "      <td>21000258</td>\n",
       "      <td>0.0</td>\n",
       "      <td>0.0</td>\n",
       "      <td>0.0</td>\n",
       "      <td>0.0</td>\n",
       "      <td>0.56</td>\n",
       "      <td>0.0</td>\n",
       "      <td>0.13</td>\n",
       "      <td>0.0</td>\n",
       "      <td>...</td>\n",
       "      <td>1340995</td>\n",
       "      <td>8</td>\n",
       "      <td>0.06</td>\n",
       "      <td>55109</td>\n",
       "      <td>547416</td>\n",
       "      <td>727438</td>\n",
       "      <td>9.41</td>\n",
       "      <td>0.09</td>\n",
       "      <td>1975947</td>\n",
       "      <td>211.0</td>\n",
       "    </tr>\n",
       "    <tr>\n",
       "      <th>3</th>\n",
       "      <td>2003</td>\n",
       "      <td>22645136</td>\n",
       "      <td>0.0</td>\n",
       "      <td>0.0</td>\n",
       "      <td>0.0</td>\n",
       "      <td>0.0</td>\n",
       "      <td>0.63</td>\n",
       "      <td>0.0</td>\n",
       "      <td>0.31</td>\n",
       "      <td>0.0</td>\n",
       "      <td>...</td>\n",
       "      <td>1559602</td>\n",
       "      <td>16</td>\n",
       "      <td>0.07</td>\n",
       "      <td>91813</td>\n",
       "      <td>466408</td>\n",
       "      <td>991575</td>\n",
       "      <td>14.74</td>\n",
       "      <td>0.15</td>\n",
       "      <td>3337555</td>\n",
       "      <td>230.0</td>\n",
       "    </tr>\n",
       "    <tr>\n",
       "      <th>4</th>\n",
       "      <td>2005</td>\n",
       "      <td>24411196</td>\n",
       "      <td>0.0</td>\n",
       "      <td>0.0</td>\n",
       "      <td>0.0</td>\n",
       "      <td>0.0</td>\n",
       "      <td>0.59</td>\n",
       "      <td>0.0</td>\n",
       "      <td>0.34</td>\n",
       "      <td>0.0</td>\n",
       "      <td>...</td>\n",
       "      <td>1889507</td>\n",
       "      <td>21</td>\n",
       "      <td>0.08</td>\n",
       "      <td>106256</td>\n",
       "      <td>329760</td>\n",
       "      <td>1447280</td>\n",
       "      <td>25.39</td>\n",
       "      <td>0.25</td>\n",
       "      <td>6198221</td>\n",
       "      <td>252.0</td>\n",
       "    </tr>\n",
       "  </tbody>\n",
       "</table>\n",
       "<p>5 rows × 21 columns</p>\n",
       "</div>"
      ],
      "text/plain": [
       "   year  population  Other renewables excluding bioenergy  (Twh)  \\\n",
       "0  2001    19688634                                          0.0   \n",
       "1  2004    23553554                                          0.0   \n",
       "2  2002    21000258                                          0.0   \n",
       "3  2003    22645136                                          0.0   \n",
       "4  2005    24411196                                          0.0   \n",
       "\n",
       "   bioenergy_electricity  solar_electricity  wind_electricity  \\\n",
       "0                    0.0                0.0               0.0   \n",
       "1                    0.0                0.0               0.0   \n",
       "2                    0.0                0.0               0.0   \n",
       "3                    0.0                0.0               0.0   \n",
       "4                    0.0                0.0               0.0   \n",
       "\n",
       "   hydro_electricity  nuclear_electricity  oil_electricity  gas_electricity  \\\n",
       "0               0.50                  0.0             0.09              0.0   \n",
       "1               0.56                  0.0             0.33              0.0   \n",
       "2               0.56                  0.0             0.13              0.0   \n",
       "3               0.63                  0.0             0.31              0.0   \n",
       "4               0.59                  0.0             0.34              0.0   \n",
       "\n",
       "   ...  co2_emissions  co2_relativity_percent  co2_emissions_per_person  \\\n",
       "0  ...        1069098                       0                      0.05   \n",
       "1  ...        1237247                      16                      0.05   \n",
       "2  ...        1340995                       8                      0.06   \n",
       "3  ...        1559602                      16                      0.07   \n",
       "4  ...        1889507                      21                      0.08   \n",
       "\n",
       "   co2_emissions_from_coal  co2_emissions_from_gas  co2_emissions_from_oil  \\\n",
       "0                    69616                  208848                  762112   \n",
       "1                    91600                  227168                  908672   \n",
       "2                    55109                  547416                  727438   \n",
       "3                    91813                  466408                  991575   \n",
       "4                   106256                  329760                 1447280   \n",
       "\n",
       "   access_to_electricity_percent  access_to_electricity_percentile  \\\n",
       "0                           4.07                              0.04   \n",
       "1                          20.06                              0.20   \n",
       "2                           9.41                              0.09   \n",
       "3                          14.74                              0.15   \n",
       "4                          25.39                              0.25   \n",
       "\n",
       "   access_to_electricity_population  primary_energy_consumption_per_capita  \n",
       "0                            802228                                  237.0  \n",
       "1                           4726013                                  204.0  \n",
       "2                           1975947                                  211.0  \n",
       "3                           3337555                                  230.0  \n",
       "4                           6198221                                  252.0  \n",
       "\n",
       "[5 rows x 21 columns]"
      ]
     },
     "execution_count": 9,
     "metadata": {},
     "output_type": "execute_result"
    }
   ],
   "source": [
    "num_col_df = raw_df.select_dtypes(include='number')\n",
    "num_col_df.head(5)"
   ]
  },
  {
   "cell_type": "markdown",
   "metadata": {},
   "source": [
    "Với tất cả các cột là dữ liệu số trên, ta cần phải tính các giá trị sau cho từng cột:\n",
    "- `missing_ratio`: tỉ lệ (0-100%) các giá trị bị thiếu.\n",
    "- `min`: giá trị nhỏ nhất trong cột đó.\n",
    "- `lower_quartile`: giá trị tứ phân vị thứ nhất của cột.\n",
    "- `median`: giá trị trung vị của cột.\n",
    "- `upper_quartile`: giá trị tứ phân vị thứ ba của cột.\n",
    "- `max`: giá trị lớn nhất của cột."
   ]
  },
  {
   "cell_type": "code",
   "execution_count": 10,
   "metadata": {},
   "outputs": [],
   "source": [
    "def missing_ratio(s):\n",
    "    missing_count = s.isnull().sum()\n",
    "    total_values = len(s)\n",
    "    ratio = (missing_count / total_values) * 100\n",
    "    return ratio.round(1)\n",
    "\n",
    "def lower_quartile(df):\n",
    "    return df.quantile(0.25).round(1)\n",
    "\n",
    "def upper_quartile(df):\n",
    "    return df.quantile(0.75).round(1)"
   ]
  },
  {
   "cell_type": "markdown",
   "metadata": {},
   "source": [
    "Dùng phương thức `.agg()` để áp dụng cho tất cả các cột của `numerical_cols`, mỗi dòng sẽ là giá trị cần tính đã được định nghĩa ở trên."
   ]
  },
  {
   "cell_type": "code",
   "execution_count": 11,
   "metadata": {},
   "outputs": [
    {
     "data": {
      "text/html": [
       "<div>\n",
       "<style scoped>\n",
       "    .dataframe tbody tr th:only-of-type {\n",
       "        vertical-align: middle;\n",
       "    }\n",
       "\n",
       "    .dataframe tbody tr th {\n",
       "        vertical-align: top;\n",
       "    }\n",
       "\n",
       "    .dataframe thead th {\n",
       "        text-align: right;\n",
       "    }\n",
       "</style>\n",
       "<table border=\"1\" class=\"dataframe\">\n",
       "  <thead>\n",
       "    <tr style=\"text-align: right;\">\n",
       "      <th></th>\n",
       "      <th>year</th>\n",
       "      <th>population</th>\n",
       "      <th>Other renewables excluding bioenergy  (Twh)</th>\n",
       "      <th>bioenergy_electricity</th>\n",
       "      <th>solar_electricity</th>\n",
       "      <th>wind_electricity</th>\n",
       "      <th>hydro_electricity</th>\n",
       "      <th>nuclear_electricity</th>\n",
       "      <th>oil_electricity</th>\n",
       "      <th>gas_electricity</th>\n",
       "      <th>...</th>\n",
       "      <th>co2_emissions</th>\n",
       "      <th>co2_relativity_percent</th>\n",
       "      <th>co2_emissions_per_person</th>\n",
       "      <th>co2_emissions_from_coal</th>\n",
       "      <th>co2_emissions_from_gas</th>\n",
       "      <th>co2_emissions_from_oil</th>\n",
       "      <th>access_to_electricity_percent</th>\n",
       "      <th>access_to_electricity_percentile</th>\n",
       "      <th>access_to_electricity_population</th>\n",
       "      <th>primary_energy_consumption_per_capita</th>\n",
       "    </tr>\n",
       "  </thead>\n",
       "  <tbody>\n",
       "    <tr>\n",
       "      <th>missing_ratio</th>\n",
       "      <td>0.00</td>\n",
       "      <td>0.00</td>\n",
       "      <td>0.00</td>\n",
       "      <td>0.00</td>\n",
       "      <td>0.00</td>\n",
       "      <td>0.00</td>\n",
       "      <td>0.00</td>\n",
       "      <td>0.00</td>\n",
       "      <td>0.00</td>\n",
       "      <td>0.00</td>\n",
       "      <td>...</td>\n",
       "      <td>0.00</td>\n",
       "      <td>0.00</td>\n",
       "      <td>0.00</td>\n",
       "      <td>0.00</td>\n",
       "      <td>0.00</td>\n",
       "      <td>0.00</td>\n",
       "      <td>4.00</td>\n",
       "      <td>0.00</td>\n",
       "      <td>0.00</td>\n",
       "      <td>0.30</td>\n",
       "    </tr>\n",
       "    <tr>\n",
       "      <th>min</th>\n",
       "      <td>2000.00</td>\n",
       "      <td>1833.00</td>\n",
       "      <td>0.00</td>\n",
       "      <td>0.00</td>\n",
       "      <td>0.00</td>\n",
       "      <td>0.00</td>\n",
       "      <td>0.00</td>\n",
       "      <td>0.00</td>\n",
       "      <td>0.00</td>\n",
       "      <td>0.00</td>\n",
       "      <td>...</td>\n",
       "      <td>3664.00</td>\n",
       "      <td>-100.00</td>\n",
       "      <td>0.02</td>\n",
       "      <td>0.00</td>\n",
       "      <td>0.00</td>\n",
       "      <td>0.00</td>\n",
       "      <td>1.25</td>\n",
       "      <td>0.00</td>\n",
       "      <td>0.00</td>\n",
       "      <td>105.00</td>\n",
       "    </tr>\n",
       "    <tr>\n",
       "      <th>lower_quartile</th>\n",
       "      <td>2005.00</td>\n",
       "      <td>1377669.00</td>\n",
       "      <td>0.00</td>\n",
       "      <td>0.00</td>\n",
       "      <td>0.00</td>\n",
       "      <td>0.00</td>\n",
       "      <td>0.00</td>\n",
       "      <td>0.00</td>\n",
       "      <td>0.10</td>\n",
       "      <td>0.00</td>\n",
       "      <td>...</td>\n",
       "      <td>1737648.00</td>\n",
       "      <td>0.00</td>\n",
       "      <td>0.70</td>\n",
       "      <td>0.00</td>\n",
       "      <td>0.00</td>\n",
       "      <td>1144819.50</td>\n",
       "      <td>62.40</td>\n",
       "      <td>0.50</td>\n",
       "      <td>551009.50</td>\n",
       "      <td>3304.50</td>\n",
       "    </tr>\n",
       "    <tr>\n",
       "      <th>median</th>\n",
       "      <td>2011.00</td>\n",
       "      <td>6998022.00</td>\n",
       "      <td>0.00</td>\n",
       "      <td>0.00</td>\n",
       "      <td>0.00</td>\n",
       "      <td>0.00</td>\n",
       "      <td>0.86</td>\n",
       "      <td>0.00</td>\n",
       "      <td>0.53</td>\n",
       "      <td>0.00</td>\n",
       "      <td>...</td>\n",
       "      <td>8784956.00</td>\n",
       "      <td>2.00</td>\n",
       "      <td>2.61</td>\n",
       "      <td>158996.00</td>\n",
       "      <td>260144.00</td>\n",
       "      <td>5140592.00</td>\n",
       "      <td>98.36</td>\n",
       "      <td>0.98</td>\n",
       "      <td>4417562.00</td>\n",
       "      <td>13347.50</td>\n",
       "    </tr>\n",
       "    <tr>\n",
       "      <th>upper_quartile</th>\n",
       "      <td>2016.00</td>\n",
       "      <td>23840686.00</td>\n",
       "      <td>0.00</td>\n",
       "      <td>0.30</td>\n",
       "      <td>0.00</td>\n",
       "      <td>0.10</td>\n",
       "      <td>7.20</td>\n",
       "      <td>0.00</td>\n",
       "      <td>3.40</td>\n",
       "      <td>11.20</td>\n",
       "      <td>...</td>\n",
       "      <td>59382448.00</td>\n",
       "      <td>5.00</td>\n",
       "      <td>6.60</td>\n",
       "      <td>8539775.50</td>\n",
       "      <td>14531613.50</td>\n",
       "      <td>25045272.00</td>\n",
       "      <td>100.00</td>\n",
       "      <td>1.00</td>\n",
       "      <td>16427959.00</td>\n",
       "      <td>33200.00</td>\n",
       "    </tr>\n",
       "    <tr>\n",
       "      <th>max</th>\n",
       "      <td>2021.00</td>\n",
       "      <td>1425893500.00</td>\n",
       "      <td>19.16</td>\n",
       "      <td>165.93</td>\n",
       "      <td>327.00</td>\n",
       "      <td>655.80</td>\n",
       "      <td>1321.71</td>\n",
       "      <td>809.41</td>\n",
       "      <td>207.77</td>\n",
       "      <td>1624.17</td>\n",
       "      <td>...</td>\n",
       "      <td>11336233000.00</td>\n",
       "      <td>223913.00</td>\n",
       "      <td>67.49</td>\n",
       "      <td>7979436000.00</td>\n",
       "      <td>1675471500.00</td>\n",
       "      <td>2642691800.00</td>\n",
       "      <td>100.00</td>\n",
       "      <td>1.00</td>\n",
       "      <td>1407563900.00</td>\n",
       "      <td>657539.00</td>\n",
       "    </tr>\n",
       "  </tbody>\n",
       "</table>\n",
       "<p>6 rows × 21 columns</p>\n",
       "</div>"
      ],
      "text/plain": [
       "                  year    population  \\\n",
       "missing_ratio     0.00          0.00   \n",
       "min            2000.00       1833.00   \n",
       "lower_quartile 2005.00    1377669.00   \n",
       "median         2011.00    6998022.00   \n",
       "upper_quartile 2016.00   23840686.00   \n",
       "max            2021.00 1425893500.00   \n",
       "\n",
       "                Other renewables excluding bioenergy  (Twh)  \\\n",
       "missing_ratio                                          0.00   \n",
       "min                                                    0.00   \n",
       "lower_quartile                                         0.00   \n",
       "median                                                 0.00   \n",
       "upper_quartile                                         0.00   \n",
       "max                                                   19.16   \n",
       "\n",
       "                bioenergy_electricity  solar_electricity  wind_electricity  \\\n",
       "missing_ratio                    0.00               0.00              0.00   \n",
       "min                              0.00               0.00              0.00   \n",
       "lower_quartile                   0.00               0.00              0.00   \n",
       "median                           0.00               0.00              0.00   \n",
       "upper_quartile                   0.30               0.00              0.10   \n",
       "max                            165.93             327.00            655.80   \n",
       "\n",
       "                hydro_electricity  nuclear_electricity  oil_electricity  \\\n",
       "missing_ratio                0.00                 0.00             0.00   \n",
       "min                          0.00                 0.00             0.00   \n",
       "lower_quartile               0.00                 0.00             0.10   \n",
       "median                       0.86                 0.00             0.53   \n",
       "upper_quartile               7.20                 0.00             3.40   \n",
       "max                       1321.71               809.41           207.77   \n",
       "\n",
       "                gas_electricity  ...  co2_emissions  co2_relativity_percent  \\\n",
       "missing_ratio              0.00  ...           0.00                    0.00   \n",
       "min                        0.00  ...        3664.00                 -100.00   \n",
       "lower_quartile             0.00  ...     1737648.00                    0.00   \n",
       "median                     0.00  ...     8784956.00                    2.00   \n",
       "upper_quartile            11.20  ...    59382448.00                    5.00   \n",
       "max                     1624.17  ... 11336233000.00               223913.00   \n",
       "\n",
       "                co2_emissions_per_person  co2_emissions_from_coal  \\\n",
       "missing_ratio                       0.00                     0.00   \n",
       "min                                 0.02                     0.00   \n",
       "lower_quartile                      0.70                     0.00   \n",
       "median                              2.61                158996.00   \n",
       "upper_quartile                      6.60               8539775.50   \n",
       "max                                67.49            7979436000.00   \n",
       "\n",
       "                co2_emissions_from_gas  co2_emissions_from_oil  \\\n",
       "missing_ratio                     0.00                    0.00   \n",
       "min                               0.00                    0.00   \n",
       "lower_quartile                    0.00              1144819.50   \n",
       "median                       260144.00              5140592.00   \n",
       "upper_quartile             14531613.50             25045272.00   \n",
       "max                      1675471500.00           2642691800.00   \n",
       "\n",
       "                access_to_electricity_percent  \\\n",
       "missing_ratio                            4.00   \n",
       "min                                      1.25   \n",
       "lower_quartile                          62.40   \n",
       "median                                  98.36   \n",
       "upper_quartile                         100.00   \n",
       "max                                    100.00   \n",
       "\n",
       "                access_to_electricity_percentile  \\\n",
       "missing_ratio                               0.00   \n",
       "min                                         0.00   \n",
       "lower_quartile                              0.50   \n",
       "median                                      0.98   \n",
       "upper_quartile                              1.00   \n",
       "max                                         1.00   \n",
       "\n",
       "                access_to_electricity_population  \\\n",
       "missing_ratio                               0.00   \n",
       "min                                         0.00   \n",
       "lower_quartile                         551009.50   \n",
       "median                                4417562.00   \n",
       "upper_quartile                       16427959.00   \n",
       "max                                1407563900.00   \n",
       "\n",
       "                primary_energy_consumption_per_capita  \n",
       "missing_ratio                                    0.30  \n",
       "min                                            105.00  \n",
       "lower_quartile                                3304.50  \n",
       "median                                       13347.50  \n",
       "upper_quartile                               33200.00  \n",
       "max                                         657539.00  \n",
       "\n",
       "[6 rows x 21 columns]"
      ]
     },
     "execution_count": 11,
     "metadata": {},
     "output_type": "execute_result"
    }
   ],
   "source": [
    "pd.set_option('display.float_format', lambda x : '%.2f' %x)\n",
    "num_col_info_df = num_col_df.agg([missing_ratio, \"min\", lower_quartile, \"median\", upper_quartile, \"max\"])\n",
    "num_col_info_df"
   ]
  },
  {
   "cell_type": "markdown",
   "metadata": {},
   "source": [
    "Kiểm tra xem cột nào có missing_ratio > 0 để tiến hành fill các giá trị bị mất"
   ]
  },
  {
   "cell_type": "code",
   "execution_count": 12,
   "metadata": {},
   "outputs": [
    {
     "data": {
      "text/plain": [
       "{'access_to_electricity_percent': 4.0,\n",
       " 'primary_energy_consumption_per_capita': 0.3}"
      ]
     },
     "execution_count": 12,
     "metadata": {},
     "output_type": "execute_result"
    }
   ],
   "source": [
    "num_col_info_df = num_col_df.agg([missing_ratio, \"min\", lower_quartile, \"median\", upper_quartile, \"max\"])\n",
    "temp = num_col_info_df.columns[num_col_info_df.loc['missing_ratio'] > 0.0].tolist()\n",
    "\n",
    "missing_ratio_dict = num_col_info_df.loc['missing_ratio'][temp].to_dict()\n",
    "missing_ratio_dict"
   ]
  },
  {
   "cell_type": "code",
   "execution_count": 13,
   "metadata": {},
   "outputs": [
    {
     "name": "stdout",
     "output_type": "stream",
     "text": [
      "access_to_electricity_percent: ['Uruguay', 'Uzbekistan', 'Vanuatu', 'Venezuela', 'Vietnam', 'Yemen', 'Zambia', 'Zimbabwe']\n",
      "primary_energy_consumption_per_capita: ['Zimbabwe']\n"
     ]
    }
   ],
   "source": [
    "mask = num_col_df['access_to_electricity_percent'].isna()\n",
    "temp = raw_df[mask]['country'].unique().tolist()\n",
    "print(f'access_to_electricity_percent: {temp}')\n",
    "\n",
    "mask = num_col_df['primary_energy_consumption_per_capita'].isna()\n",
    "temp = raw_df[mask]['country'].unique().tolist()\n",
    "print(f'primary_energy_consumption_per_capita: {temp}')"
   ]
  },
  {
   "cell_type": "markdown",
   "metadata": {},
   "source": [
    "- Từ kết quả được in ra ở trên, ở cột `access_to_electricity_percent` có tận 8 nước bị mất dữ liệu ở cột này nên nhóm sẽ thay thế chúng bằng giá trị trung vị (median) của cột.\n",
    "- Còn cột `access_to_electricity_percent`, thấy rằng chỉ có nước `Zimbabwe` bị thiếu dữ liệu nên có thể điền giá trị trung bình (mean) của nước này cho các giá trị thiếu đó."
   ]
  },
  {
   "cell_type": "code",
   "execution_count": 14,
   "metadata": {},
   "outputs": [],
   "source": [
    "median_atep = num_col_df['access_to_electricity_percent'].median()\n",
    "num_col_df['access_to_electricity_percent'].fillna(median_atep, inplace=True)\n",
    "\n",
    "pecpc_zimbabwe = (raw_df.loc[raw_df['country'] == 'Zimbabwe', 'primary_energy_consumption_per_capita']).mean()\n",
    "num_col_df['primary_energy_consumption_per_capita'].fillna(pecpc_zimbabwe, inplace=True)"
   ]
  },
  {
   "cell_type": "code",
   "execution_count": 15,
   "metadata": {},
   "outputs": [
    {
     "data": {
      "text/plain": [
       "{}"
      ]
     },
     "execution_count": 15,
     "metadata": {},
     "output_type": "execute_result"
    }
   ],
   "source": [
    "num_col_info_df = num_col_df.agg([missing_ratio, \"min\", lower_quartile, \"median\", upper_quartile, \"max\"])\n",
    "temp = num_col_info_df.columns[num_col_info_df.loc['missing_ratio'] > 0.0].tolist()\n",
    "\n",
    "missing_ratio_dict = num_col_info_df.loc['missing_ratio'][temp].to_dict()\n",
    "missing_ratio_dict"
   ]
  },
  {
   "cell_type": "markdown",
   "metadata": {},
   "source": [
    "Như vậy, các giá trị bị thiếu đã được điền vào `num_col_df`."
   ]
  },
  {
   "cell_type": "markdown",
   "metadata": {},
   "source": [
    "### Với mỗi cột có kiểu là dạng phân loại, những giá trị trong cột đó được phân bố như thế nào?"
   ]
  },
  {
   "cell_type": "code",
   "execution_count": 16,
   "metadata": {},
   "outputs": [
    {
     "data": {
      "text/html": [
       "<div>\n",
       "<style scoped>\n",
       "    .dataframe tbody tr th:only-of-type {\n",
       "        vertical-align: middle;\n",
       "    }\n",
       "\n",
       "    .dataframe tbody tr th {\n",
       "        vertical-align: top;\n",
       "    }\n",
       "\n",
       "    .dataframe thead th {\n",
       "        text-align: right;\n",
       "    }\n",
       "</style>\n",
       "<table border=\"1\" class=\"dataframe\">\n",
       "  <thead>\n",
       "    <tr style=\"text-align: right;\">\n",
       "      <th></th>\n",
       "      <th>country</th>\n",
       "      <th>code</th>\n",
       "    </tr>\n",
       "  </thead>\n",
       "  <tbody>\n",
       "    <tr>\n",
       "      <th>0</th>\n",
       "      <td>Afghanistan</td>\n",
       "      <td>AFG</td>\n",
       "    </tr>\n",
       "    <tr>\n",
       "      <th>1</th>\n",
       "      <td>Afghanistan</td>\n",
       "      <td>AFG</td>\n",
       "    </tr>\n",
       "    <tr>\n",
       "      <th>2</th>\n",
       "      <td>Afghanistan</td>\n",
       "      <td>AFG</td>\n",
       "    </tr>\n",
       "    <tr>\n",
       "      <th>3</th>\n",
       "      <td>Afghanistan</td>\n",
       "      <td>AFG</td>\n",
       "    </tr>\n",
       "    <tr>\n",
       "      <th>4</th>\n",
       "      <td>Afghanistan</td>\n",
       "      <td>AFG</td>\n",
       "    </tr>\n",
       "  </tbody>\n",
       "</table>\n",
       "</div>"
      ],
      "text/plain": [
       "       country code\n",
       "0  Afghanistan  AFG\n",
       "1  Afghanistan  AFG\n",
       "2  Afghanistan  AFG\n",
       "3  Afghanistan  AFG\n",
       "4  Afghanistan  AFG"
      ]
     },
     "execution_count": 16,
     "metadata": {},
     "output_type": "execute_result"
    }
   ],
   "source": [
    "cate_col_df = raw_df.select_dtypes(include=['object'])\n",
    "cate_col_df.head()"
   ]
  },
  {
   "cell_type": "markdown",
   "metadata": {},
   "source": [
    "Đối với các cột có kiểu là dạng phân loại, ta cũng sẽ tính:\n",
    "- `missing_ratio`: tỉ lệ (0-100%) các giá trị bị thiếu.\n",
    "- `num_values`: số lượng các giá trị độc nhất(unique) trong cột.\n",
    "- `value_ratios`: tỉ lệ % tổng từng giá trị unique trên số lượng giá trị non-null của cột."
   ]
  },
  {
   "cell_type": "code",
   "execution_count": 17,
   "metadata": {},
   "outputs": [
    {
     "data": {
      "text/html": [
       "<div>\n",
       "<style scoped>\n",
       "    .dataframe tbody tr th:only-of-type {\n",
       "        vertical-align: middle;\n",
       "    }\n",
       "\n",
       "    .dataframe tbody tr th {\n",
       "        vertical-align: top;\n",
       "    }\n",
       "\n",
       "    .dataframe thead th {\n",
       "        text-align: right;\n",
       "    }\n",
       "</style>\n",
       "<table border=\"1\" class=\"dataframe\">\n",
       "  <thead>\n",
       "    <tr style=\"text-align: right;\">\n",
       "      <th></th>\n",
       "      <th>country</th>\n",
       "      <th>code</th>\n",
       "    </tr>\n",
       "  </thead>\n",
       "  <tbody>\n",
       "    <tr>\n",
       "      <th>missing_ratio</th>\n",
       "      <td>0.00</td>\n",
       "      <td>0.00</td>\n",
       "    </tr>\n",
       "    <tr>\n",
       "      <th>num_values</th>\n",
       "      <td>199</td>\n",
       "      <td>199</td>\n",
       "    </tr>\n",
       "    <tr>\n",
       "      <th>value_ratios</th>\n",
       "      <td>{'Laos': 0.5, 'Qatar': 0.5, 'Nauru': 0.5, 'Nep...</td>\n",
       "      <td>{'LAO': 0.5, 'QAT': 0.5, 'NRU': 0.5, 'NPL': 0....</td>\n",
       "    </tr>\n",
       "  </tbody>\n",
       "</table>\n",
       "</div>"
      ],
      "text/plain": [
       "                                                         country  \\\n",
       "missing_ratio                                               0.00   \n",
       "num_values                                                   199   \n",
       "value_ratios   {'Laos': 0.5, 'Qatar': 0.5, 'Nauru': 0.5, 'Nep...   \n",
       "\n",
       "                                                            code  \n",
       "missing_ratio                                               0.00  \n",
       "num_values                                                   199  \n",
       "value_ratios   {'LAO': 0.5, 'QAT': 0.5, 'NRU': 0.5, 'NPL': 0....  "
      ]
     },
     "execution_count": 17,
     "metadata": {},
     "output_type": "execute_result"
    }
   ],
   "source": [
    "def missing_ratio(s):\n",
    "    missing_count = s.isnull().sum()\n",
    "    total_values = len(s)\n",
    "    ratio = (missing_count / total_values) * 100\n",
    "    return ratio.round(1)\n",
    "\n",
    "def num_values(s):\n",
    "    unique_count = s.nunique()\n",
    "    return int(unique_count)\n",
    "\n",
    "def value_ratios(s):\n",
    "    distribution = s.value_counts().to_dict()\n",
    "    for key in distribution:\n",
    "        distribution[key] = (distribution[key]*100 / s.count()).round(1)\n",
    "    return distribution\n",
    "\n",
    "cat_col_info_df = cate_col_df.agg([missing_ratio, num_values, value_ratios])\n",
    "cat_col_info_df"
   ]
  },
  {
   "cell_type": "code",
   "execution_count": 18,
   "metadata": {},
   "outputs": [
    {
     "name": "stdout",
     "output_type": "stream",
     "text": [
      "[]\n"
     ]
    }
   ],
   "source": [
    "missing_raio_cols = cat_col_info_df.columns[cat_col_info_df.iloc[0] > 0.0].tolist()\n",
    "print(missing_raio_cols)"
   ]
  },
  {
   "cell_type": "markdown",
   "metadata": {},
   "source": [
    "**Nhận xét**:\n",
    "- Từ bảng `cat_col_info_df`, ứng với mỗi nước đều có một mã riêng với tỉ lệ riêng là 0.5%.\n",
    "- Vậy, ở những cột categorical này không có cột nào bị mất mát dữ liệu. "
   ]
  },
  {
   "cell_type": "code",
   "execution_count": 19,
   "metadata": {
    "tags": []
   },
   "outputs": [
    {
     "data": {
      "text/html": [
       "<div>\n",
       "<style scoped>\n",
       "    .dataframe tbody tr th:only-of-type {\n",
       "        vertical-align: middle;\n",
       "    }\n",
       "\n",
       "    .dataframe tbody tr th {\n",
       "        vertical-align: top;\n",
       "    }\n",
       "\n",
       "    .dataframe thead th {\n",
       "        text-align: right;\n",
       "    }\n",
       "</style>\n",
       "<table border=\"1\" class=\"dataframe\">\n",
       "  <thead>\n",
       "    <tr style=\"text-align: right;\">\n",
       "      <th></th>\n",
       "      <th>country</th>\n",
       "      <th>code</th>\n",
       "      <th>year</th>\n",
       "      <th>population</th>\n",
       "      <th>Other renewables excluding bioenergy  (Twh)</th>\n",
       "      <th>bioenergy_electricity</th>\n",
       "      <th>solar_electricity</th>\n",
       "      <th>wind_electricity</th>\n",
       "      <th>hydro_electricity</th>\n",
       "      <th>nuclear_electricity</th>\n",
       "      <th>...</th>\n",
       "      <th>co2_emissions</th>\n",
       "      <th>co2_relativity_percent</th>\n",
       "      <th>co2_emissions_per_person</th>\n",
       "      <th>co2_emissions_from_coal</th>\n",
       "      <th>co2_emissions_from_gas</th>\n",
       "      <th>co2_emissions_from_oil</th>\n",
       "      <th>access_to_electricity_percent</th>\n",
       "      <th>access_to_electricity_percentile</th>\n",
       "      <th>access_to_electricity_population</th>\n",
       "      <th>primary_energy_consumption_per_capita</th>\n",
       "    </tr>\n",
       "  </thead>\n",
       "  <tbody>\n",
       "    <tr>\n",
       "      <th>0</th>\n",
       "      <td>Afghanistan</td>\n",
       "      <td>AFG</td>\n",
       "      <td>2001</td>\n",
       "      <td>19688634</td>\n",
       "      <td>0.00</td>\n",
       "      <td>0.00</td>\n",
       "      <td>0.00</td>\n",
       "      <td>0.00</td>\n",
       "      <td>0.50</td>\n",
       "      <td>0.00</td>\n",
       "      <td>...</td>\n",
       "      <td>1069098</td>\n",
       "      <td>0</td>\n",
       "      <td>0.05</td>\n",
       "      <td>69616</td>\n",
       "      <td>208848</td>\n",
       "      <td>762112</td>\n",
       "      <td>4.07</td>\n",
       "      <td>0.04</td>\n",
       "      <td>802228</td>\n",
       "      <td>237.00</td>\n",
       "    </tr>\n",
       "    <tr>\n",
       "      <th>1</th>\n",
       "      <td>Afghanistan</td>\n",
       "      <td>AFG</td>\n",
       "      <td>2004</td>\n",
       "      <td>23553554</td>\n",
       "      <td>0.00</td>\n",
       "      <td>0.00</td>\n",
       "      <td>0.00</td>\n",
       "      <td>0.00</td>\n",
       "      <td>0.56</td>\n",
       "      <td>0.00</td>\n",
       "      <td>...</td>\n",
       "      <td>1237247</td>\n",
       "      <td>16</td>\n",
       "      <td>0.05</td>\n",
       "      <td>91600</td>\n",
       "      <td>227168</td>\n",
       "      <td>908672</td>\n",
       "      <td>20.06</td>\n",
       "      <td>0.20</td>\n",
       "      <td>4726013</td>\n",
       "      <td>204.00</td>\n",
       "    </tr>\n",
       "    <tr>\n",
       "      <th>2</th>\n",
       "      <td>Afghanistan</td>\n",
       "      <td>AFG</td>\n",
       "      <td>2002</td>\n",
       "      <td>21000258</td>\n",
       "      <td>0.00</td>\n",
       "      <td>0.00</td>\n",
       "      <td>0.00</td>\n",
       "      <td>0.00</td>\n",
       "      <td>0.56</td>\n",
       "      <td>0.00</td>\n",
       "      <td>...</td>\n",
       "      <td>1340995</td>\n",
       "      <td>8</td>\n",
       "      <td>0.06</td>\n",
       "      <td>55109</td>\n",
       "      <td>547416</td>\n",
       "      <td>727438</td>\n",
       "      <td>9.41</td>\n",
       "      <td>0.09</td>\n",
       "      <td>1975947</td>\n",
       "      <td>211.00</td>\n",
       "    </tr>\n",
       "    <tr>\n",
       "      <th>3</th>\n",
       "      <td>Afghanistan</td>\n",
       "      <td>AFG</td>\n",
       "      <td>2003</td>\n",
       "      <td>22645136</td>\n",
       "      <td>0.00</td>\n",
       "      <td>0.00</td>\n",
       "      <td>0.00</td>\n",
       "      <td>0.00</td>\n",
       "      <td>0.63</td>\n",
       "      <td>0.00</td>\n",
       "      <td>...</td>\n",
       "      <td>1559602</td>\n",
       "      <td>16</td>\n",
       "      <td>0.07</td>\n",
       "      <td>91813</td>\n",
       "      <td>466408</td>\n",
       "      <td>991575</td>\n",
       "      <td>14.74</td>\n",
       "      <td>0.15</td>\n",
       "      <td>3337555</td>\n",
       "      <td>230.00</td>\n",
       "    </tr>\n",
       "    <tr>\n",
       "      <th>4</th>\n",
       "      <td>Afghanistan</td>\n",
       "      <td>AFG</td>\n",
       "      <td>2005</td>\n",
       "      <td>24411196</td>\n",
       "      <td>0.00</td>\n",
       "      <td>0.00</td>\n",
       "      <td>0.00</td>\n",
       "      <td>0.00</td>\n",
       "      <td>0.59</td>\n",
       "      <td>0.00</td>\n",
       "      <td>...</td>\n",
       "      <td>1889507</td>\n",
       "      <td>21</td>\n",
       "      <td>0.08</td>\n",
       "      <td>106256</td>\n",
       "      <td>329760</td>\n",
       "      <td>1447280</td>\n",
       "      <td>25.39</td>\n",
       "      <td>0.25</td>\n",
       "      <td>6198221</td>\n",
       "      <td>252.00</td>\n",
       "    </tr>\n",
       "  </tbody>\n",
       "</table>\n",
       "<p>5 rows × 23 columns</p>\n",
       "</div>"
      ],
      "text/plain": [
       "       country code  year  population  \\\n",
       "0  Afghanistan  AFG  2001    19688634   \n",
       "1  Afghanistan  AFG  2004    23553554   \n",
       "2  Afghanistan  AFG  2002    21000258   \n",
       "3  Afghanistan  AFG  2003    22645136   \n",
       "4  Afghanistan  AFG  2005    24411196   \n",
       "\n",
       "   Other renewables excluding bioenergy  (Twh)  bioenergy_electricity  \\\n",
       "0                                         0.00                   0.00   \n",
       "1                                         0.00                   0.00   \n",
       "2                                         0.00                   0.00   \n",
       "3                                         0.00                   0.00   \n",
       "4                                         0.00                   0.00   \n",
       "\n",
       "   solar_electricity  wind_electricity  hydro_electricity  \\\n",
       "0               0.00              0.00               0.50   \n",
       "1               0.00              0.00               0.56   \n",
       "2               0.00              0.00               0.56   \n",
       "3               0.00              0.00               0.63   \n",
       "4               0.00              0.00               0.59   \n",
       "\n",
       "   nuclear_electricity  ...  co2_emissions  co2_relativity_percent  \\\n",
       "0                 0.00  ...        1069098                       0   \n",
       "1                 0.00  ...        1237247                      16   \n",
       "2                 0.00  ...        1340995                       8   \n",
       "3                 0.00  ...        1559602                      16   \n",
       "4                 0.00  ...        1889507                      21   \n",
       "\n",
       "   co2_emissions_per_person  co2_emissions_from_coal  co2_emissions_from_gas  \\\n",
       "0                      0.05                    69616                  208848   \n",
       "1                      0.05                    91600                  227168   \n",
       "2                      0.06                    55109                  547416   \n",
       "3                      0.07                    91813                  466408   \n",
       "4                      0.08                   106256                  329760   \n",
       "\n",
       "   co2_emissions_from_oil  access_to_electricity_percent  \\\n",
       "0                  762112                           4.07   \n",
       "1                  908672                          20.06   \n",
       "2                  727438                           9.41   \n",
       "3                  991575                          14.74   \n",
       "4                 1447280                          25.39   \n",
       "\n",
       "   access_to_electricity_percentile  access_to_electricity_population  \\\n",
       "0                              0.04                            802228   \n",
       "1                              0.20                           4726013   \n",
       "2                              0.09                           1975947   \n",
       "3                              0.15                           3337555   \n",
       "4                              0.25                           6198221   \n",
       "\n",
       "   primary_energy_consumption_per_capita  \n",
       "0                                 237.00  \n",
       "1                                 204.00  \n",
       "2                                 211.00  \n",
       "3                                 230.00  \n",
       "4                                 252.00  \n",
       "\n",
       "[5 rows x 23 columns]"
      ]
     },
     "execution_count": 19,
     "metadata": {},
     "output_type": "execute_result"
    }
   ],
   "source": [
    "#ghép 2 dataframe con sau khi tiền xử lí thành 1\n",
    "raw_df = cate_col_df.join(num_col_df)\n",
    "raw_df.head(5)"
   ]
  },
  {
   "cell_type": "markdown",
   "metadata": {},
   "source": [
    "## C. Trực quan hóa dữ liệu"
   ]
  },
  {
   "cell_type": "markdown",
   "metadata": {},
   "source": [
    "### Câu hỏi 1: Lượng khí CO2 thải ra theo từng năm như thế nào? Những tác nhân nào gây thải ra nhiều lượng khí CO2?"
   ]
  },
  {
   "cell_type": "code",
   "execution_count": 20,
   "metadata": {
    "tags": []
   },
   "outputs": [
    {
     "data": {
      "text/html": [
       "<div>\n",
       "<style scoped>\n",
       "    .dataframe tbody tr th:only-of-type {\n",
       "        vertical-align: middle;\n",
       "    }\n",
       "\n",
       "    .dataframe tbody tr th {\n",
       "        vertical-align: top;\n",
       "    }\n",
       "\n",
       "    .dataframe thead th {\n",
       "        text-align: right;\n",
       "    }\n",
       "</style>\n",
       "<table border=\"1\" class=\"dataframe\">\n",
       "  <thead>\n",
       "    <tr style=\"text-align: right;\">\n",
       "      <th></th>\n",
       "      <th>year</th>\n",
       "      <th>avg_co2_emissions_from_coal</th>\n",
       "      <th>avg_co2_emissions_from_gas</th>\n",
       "      <th>avg_co2_emissions_from_oil</th>\n",
       "      <th>avg_co2_emissions</th>\n",
       "    </tr>\n",
       "  </thead>\n",
       "  <tbody>\n",
       "    <tr>\n",
       "      <th>0</th>\n",
       "      <td>2000</td>\n",
       "      <td>47708757.21</td>\n",
       "      <td>24129459.89</td>\n",
       "      <td>48139369.33</td>\n",
       "      <td>126569687.32</td>\n",
       "    </tr>\n",
       "    <tr>\n",
       "      <th>1</th>\n",
       "      <td>2001</td>\n",
       "      <td>47980459.84</td>\n",
       "      <td>23972736.32</td>\n",
       "      <td>48336281.27</td>\n",
       "      <td>126948840.16</td>\n",
       "    </tr>\n",
       "    <tr>\n",
       "      <th>2</th>\n",
       "      <td>2002</td>\n",
       "      <td>50177361.49</td>\n",
       "      <td>24635015.78</td>\n",
       "      <td>48187593.85</td>\n",
       "      <td>129756615.36</td>\n",
       "    </tr>\n",
       "    <tr>\n",
       "      <th>3</th>\n",
       "      <td>2003</td>\n",
       "      <td>54247907.84</td>\n",
       "      <td>25397976.08</td>\n",
       "      <td>49132247.78</td>\n",
       "      <td>136022669.42</td>\n",
       "    </tr>\n",
       "    <tr>\n",
       "      <th>4</th>\n",
       "      <td>2004</td>\n",
       "      <td>56071256.28</td>\n",
       "      <td>26173998.49</td>\n",
       "      <td>50535368.74</td>\n",
       "      <td>140270830.82</td>\n",
       "    </tr>\n",
       "    <tr>\n",
       "      <th>5</th>\n",
       "      <td>2005</td>\n",
       "      <td>59625990.31</td>\n",
       "      <td>26723564.70</td>\n",
       "      <td>50878907.49</td>\n",
       "      <td>145136326.67</td>\n",
       "    </tr>\n",
       "    <tr>\n",
       "      <th>6</th>\n",
       "      <td>2006</td>\n",
       "      <td>62485035.17</td>\n",
       "      <td>27275858.78</td>\n",
       "      <td>50540636.02</td>\n",
       "      <td>148621277.39</td>\n",
       "    </tr>\n",
       "    <tr>\n",
       "      <th>7</th>\n",
       "      <td>2007</td>\n",
       "      <td>65510964.61</td>\n",
       "      <td>28299305.82</td>\n",
       "      <td>50562973.86</td>\n",
       "      <td>153089130.12</td>\n",
       "    </tr>\n",
       "    <tr>\n",
       "      <th>8</th>\n",
       "      <td>2008</td>\n",
       "      <td>67281508.85</td>\n",
       "      <td>28846414.89</td>\n",
       "      <td>49865755.76</td>\n",
       "      <td>154665218.93</td>\n",
       "    </tr>\n",
       "    <tr>\n",
       "      <th>9</th>\n",
       "      <td>2009</td>\n",
       "      <td>66408768.62</td>\n",
       "      <td>28105119.87</td>\n",
       "      <td>48607515.66</td>\n",
       "      <td>151853187.95</td>\n",
       "    </tr>\n",
       "    <tr>\n",
       "      <th>10</th>\n",
       "      <td>2010</td>\n",
       "      <td>71029455.81</td>\n",
       "      <td>30262666.85</td>\n",
       "      <td>49928377.08</td>\n",
       "      <td>160424114.83</td>\n",
       "    </tr>\n",
       "    <tr>\n",
       "      <th>11</th>\n",
       "      <td>2011</td>\n",
       "      <td>75053601.80</td>\n",
       "      <td>31103236.36</td>\n",
       "      <td>50005623.26</td>\n",
       "      <td>166092312.59</td>\n",
       "    </tr>\n",
       "    <tr>\n",
       "      <th>12</th>\n",
       "      <td>2012</td>\n",
       "      <td>75500025.71</td>\n",
       "      <td>31526980.15</td>\n",
       "      <td>50291004.82</td>\n",
       "      <td>167469228.18</td>\n",
       "    </tr>\n",
       "    <tr>\n",
       "      <th>13</th>\n",
       "      <td>2013</td>\n",
       "      <td>75962920.04</td>\n",
       "      <td>31670013.53</td>\n",
       "      <td>50780839.39</td>\n",
       "      <td>168976178.56</td>\n",
       "    </tr>\n",
       "    <tr>\n",
       "      <th>14</th>\n",
       "      <td>2014</td>\n",
       "      <td>75747481.84</td>\n",
       "      <td>31731507.37</td>\n",
       "      <td>50736966.16</td>\n",
       "      <td>169061436.68</td>\n",
       "    </tr>\n",
       "    <tr>\n",
       "      <th>15</th>\n",
       "      <td>2015</td>\n",
       "      <td>74015381.38</td>\n",
       "      <td>32384217.34</td>\n",
       "      <td>51489772.88</td>\n",
       "      <td>168433656.89</td>\n",
       "    </tr>\n",
       "    <tr>\n",
       "      <th>16</th>\n",
       "      <td>2016</td>\n",
       "      <td>72311159.83</td>\n",
       "      <td>33261269.13</td>\n",
       "      <td>51996575.74</td>\n",
       "      <td>168253418.13</td>\n",
       "    </tr>\n",
       "    <tr>\n",
       "      <th>17</th>\n",
       "      <td>2017</td>\n",
       "      <td>73134119.60</td>\n",
       "      <td>34073040.28</td>\n",
       "      <td>52911457.49</td>\n",
       "      <td>171010505.55</td>\n",
       "    </tr>\n",
       "    <tr>\n",
       "      <th>18</th>\n",
       "      <td>2018</td>\n",
       "      <td>74328366.40</td>\n",
       "      <td>35941342.58</td>\n",
       "      <td>53007170.93</td>\n",
       "      <td>174572551.98</td>\n",
       "    </tr>\n",
       "    <tr>\n",
       "      <th>19</th>\n",
       "      <td>2019</td>\n",
       "      <td>74124429.81</td>\n",
       "      <td>36503021.51</td>\n",
       "      <td>53457973.91</td>\n",
       "      <td>175795584.79</td>\n",
       "    </tr>\n",
       "    <tr>\n",
       "      <th>20</th>\n",
       "      <td>2020</td>\n",
       "      <td>71802956.52</td>\n",
       "      <td>36137126.04</td>\n",
       "      <td>48600526.19</td>\n",
       "      <td>168095636.92</td>\n",
       "    </tr>\n",
       "    <tr>\n",
       "      <th>21</th>\n",
       "      <td>2021</td>\n",
       "      <td>75619590.65</td>\n",
       "      <td>37907547.46</td>\n",
       "      <td>51342601.19</td>\n",
       "      <td>176767197.06</td>\n",
       "    </tr>\n",
       "  </tbody>\n",
       "</table>\n",
       "</div>"
      ],
      "text/plain": [
       "    year  avg_co2_emissions_from_coal  avg_co2_emissions_from_gas  \\\n",
       "0   2000                  47708757.21                 24129459.89   \n",
       "1   2001                  47980459.84                 23972736.32   \n",
       "2   2002                  50177361.49                 24635015.78   \n",
       "3   2003                  54247907.84                 25397976.08   \n",
       "4   2004                  56071256.28                 26173998.49   \n",
       "5   2005                  59625990.31                 26723564.70   \n",
       "6   2006                  62485035.17                 27275858.78   \n",
       "7   2007                  65510964.61                 28299305.82   \n",
       "8   2008                  67281508.85                 28846414.89   \n",
       "9   2009                  66408768.62                 28105119.87   \n",
       "10  2010                  71029455.81                 30262666.85   \n",
       "11  2011                  75053601.80                 31103236.36   \n",
       "12  2012                  75500025.71                 31526980.15   \n",
       "13  2013                  75962920.04                 31670013.53   \n",
       "14  2014                  75747481.84                 31731507.37   \n",
       "15  2015                  74015381.38                 32384217.34   \n",
       "16  2016                  72311159.83                 33261269.13   \n",
       "17  2017                  73134119.60                 34073040.28   \n",
       "18  2018                  74328366.40                 35941342.58   \n",
       "19  2019                  74124429.81                 36503021.51   \n",
       "20  2020                  71802956.52                 36137126.04   \n",
       "21  2021                  75619590.65                 37907547.46   \n",
       "\n",
       "    avg_co2_emissions_from_oil  avg_co2_emissions  \n",
       "0                  48139369.33       126569687.32  \n",
       "1                  48336281.27       126948840.16  \n",
       "2                  48187593.85       129756615.36  \n",
       "3                  49132247.78       136022669.42  \n",
       "4                  50535368.74       140270830.82  \n",
       "5                  50878907.49       145136326.67  \n",
       "6                  50540636.02       148621277.39  \n",
       "7                  50562973.86       153089130.12  \n",
       "8                  49865755.76       154665218.93  \n",
       "9                  48607515.66       151853187.95  \n",
       "10                 49928377.08       160424114.83  \n",
       "11                 50005623.26       166092312.59  \n",
       "12                 50291004.82       167469228.18  \n",
       "13                 50780839.39       168976178.56  \n",
       "14                 50736966.16       169061436.68  \n",
       "15                 51489772.88       168433656.89  \n",
       "16                 51996575.74       168253418.13  \n",
       "17                 52911457.49       171010505.55  \n",
       "18                 53007170.93       174572551.98  \n",
       "19                 53457973.91       175795584.79  \n",
       "20                 48600526.19       168095636.92  \n",
       "21                 51342601.19       176767197.06  "
      ]
     },
     "execution_count": 20,
     "metadata": {},
     "output_type": "execute_result"
    }
   ],
   "source": [
    "# Lấy giá trị trung bình lượng khí CO2 và các tác nhân thải khí CO2 theo từng năm\n",
    "co2_by_year = raw_df.groupby('year').agg(\n",
    "    avg_co2_emissions_from_coal=('co2_emissions_from_coal', 'mean'),\n",
    "    avg_co2_emissions_from_gas=('co2_emissions_from_gas', 'mean'),\n",
    "    avg_co2_emissions_from_oil=('co2_emissions_from_oil', 'mean'),\n",
    "    avg_co2_emissions=('co2_emissions', 'mean')\n",
    ").reset_index()\n",
    "\n",
    "co2_by_year"
   ]
  },
  {
   "cell_type": "code",
   "execution_count": 21,
   "metadata": {
    "tags": []
   },
   "outputs": [
    {
     "data": {
      "application/vnd.plotly.v1+json": {
       "config": {
        "plotlyServerURL": "https://plot.ly"
       },
       "data": [
        {
         "name": "Thải CO2 từ than",
         "type": "bar",
         "x": [
          2000,
          2001,
          2002,
          2003,
          2004,
          2005,
          2006,
          2007,
          2008,
          2009,
          2010,
          2011,
          2012,
          2013,
          2014,
          2015,
          2016,
          2017,
          2018,
          2019,
          2020,
          2021
         ],
         "y": [
          47708757.213541664,
          47980459.838541664,
          50177361.494791664,
          54247907.83937824,
          56071256.28497409,
          59625990.30569948,
          62485035.16923077,
          65510964.60512821,
          67281508.85204081,
          66408768.62244898,
          71029455.81122449,
          75053601.80102041,
          75500025.70558375,
          75962920.04060914,
          75747481.83838384,
          74015381.38383839,
          72311159.83333333,
          73134119.59595959,
          74328366.3989899,
          74124429.8080808,
          71802956.51515152,
          75619590.65151516
         ]
        },
        {
         "name": "Thải CO2 từ gas",
         "type": "bar",
         "x": [
          2000,
          2001,
          2002,
          2003,
          2004,
          2005,
          2006,
          2007,
          2008,
          2009,
          2010,
          2011,
          2012,
          2013,
          2014,
          2015,
          2016,
          2017,
          2018,
          2019,
          2020,
          2021
         ],
         "y": [
          24129459.890625,
          23972736.317708332,
          24635015.776041668,
          25397976.077720206,
          26173998.49222798,
          26723564.704663213,
          27275858.779487178,
          28299305.82051282,
          28846414.89285714,
          28105119.86734694,
          30262666.846938774,
          31103236.35714286,
          31526980.14720812,
          31670013.527918782,
          31731507.36868687,
          32384217.33838384,
          33261269.13131313,
          34073040.28282829,
          35941342.57575758,
          36503021.5050505,
          36137126.040404044,
          37907547.459595956
         ]
        },
        {
         "name": "Thải CO2 từ dầu",
         "type": "bar",
         "x": [
          2000,
          2001,
          2002,
          2003,
          2004,
          2005,
          2006,
          2007,
          2008,
          2009,
          2010,
          2011,
          2012,
          2013,
          2014,
          2015,
          2016,
          2017,
          2018,
          2019,
          2020,
          2021
         ],
         "y": [
          48139369.328125,
          48336281.270833336,
          48187593.848958336,
          49132247.77720207,
          50535368.74093264,
          50878907.48704663,
          50540636.015384614,
          50562973.86153846,
          49865755.760204084,
          48607515.6632653,
          49928377.08163265,
          50005623.260204084,
          50291004.81725888,
          50780839.39086294,
          50736966.16161616,
          51489772.883838385,
          51996575.74242424,
          52911457.48989899,
          53007170.934343435,
          53457973.90909091,
          48600526.18686869,
          51342601.19191919
         ]
        },
        {
         "mode": "lines+markers",
         "name": "Xu hướng thải CO2",
         "type": "scatter",
         "x": [
          2000,
          2001,
          2002,
          2003,
          2004,
          2005,
          2006,
          2007,
          2008,
          2009,
          2010,
          2011,
          2012,
          2013,
          2014,
          2015,
          2016,
          2017,
          2018,
          2019,
          2020,
          2021
         ],
         "y": [
          126569687.32291667,
          126948840.15625,
          129756615.36458333,
          136022669.41968912,
          140270830.81865284,
          145136326.6683938,
          148621277.3897436,
          153089130.1179487,
          154665218.93367347,
          151853187.95408162,
          160424114.8265306,
          166092312.58673468,
          167469228.17766497,
          168976178.55837563,
          169061436.6818182,
          168433656.8888889,
          168253418.13131315,
          171010505.55050504,
          174572551.979798,
          175795584.7929293,
          168095636.92424244,
          176767197.06060606
         ]
        }
       ],
       "layout": {
        "barmode": "stack",
        "template": {
         "data": {
          "bar": [
           {
            "error_x": {
             "color": "#2a3f5f"
            },
            "error_y": {
             "color": "#2a3f5f"
            },
            "marker": {
             "line": {
              "color": "#E5ECF6",
              "width": 0.5
             },
             "pattern": {
              "fillmode": "overlay",
              "size": 10,
              "solidity": 0.2
             }
            },
            "type": "bar"
           }
          ],
          "barpolar": [
           {
            "marker": {
             "line": {
              "color": "#E5ECF6",
              "width": 0.5
             },
             "pattern": {
              "fillmode": "overlay",
              "size": 10,
              "solidity": 0.2
             }
            },
            "type": "barpolar"
           }
          ],
          "carpet": [
           {
            "aaxis": {
             "endlinecolor": "#2a3f5f",
             "gridcolor": "white",
             "linecolor": "white",
             "minorgridcolor": "white",
             "startlinecolor": "#2a3f5f"
            },
            "baxis": {
             "endlinecolor": "#2a3f5f",
             "gridcolor": "white",
             "linecolor": "white",
             "minorgridcolor": "white",
             "startlinecolor": "#2a3f5f"
            },
            "type": "carpet"
           }
          ],
          "choropleth": [
           {
            "colorbar": {
             "outlinewidth": 0,
             "ticks": ""
            },
            "type": "choropleth"
           }
          ],
          "contour": [
           {
            "colorbar": {
             "outlinewidth": 0,
             "ticks": ""
            },
            "colorscale": [
             [
              0,
              "#0d0887"
             ],
             [
              0.1111111111111111,
              "#46039f"
             ],
             [
              0.2222222222222222,
              "#7201a8"
             ],
             [
              0.3333333333333333,
              "#9c179e"
             ],
             [
              0.4444444444444444,
              "#bd3786"
             ],
             [
              0.5555555555555556,
              "#d8576b"
             ],
             [
              0.6666666666666666,
              "#ed7953"
             ],
             [
              0.7777777777777778,
              "#fb9f3a"
             ],
             [
              0.8888888888888888,
              "#fdca26"
             ],
             [
              1,
              "#f0f921"
             ]
            ],
            "type": "contour"
           }
          ],
          "contourcarpet": [
           {
            "colorbar": {
             "outlinewidth": 0,
             "ticks": ""
            },
            "type": "contourcarpet"
           }
          ],
          "heatmap": [
           {
            "colorbar": {
             "outlinewidth": 0,
             "ticks": ""
            },
            "colorscale": [
             [
              0,
              "#0d0887"
             ],
             [
              0.1111111111111111,
              "#46039f"
             ],
             [
              0.2222222222222222,
              "#7201a8"
             ],
             [
              0.3333333333333333,
              "#9c179e"
             ],
             [
              0.4444444444444444,
              "#bd3786"
             ],
             [
              0.5555555555555556,
              "#d8576b"
             ],
             [
              0.6666666666666666,
              "#ed7953"
             ],
             [
              0.7777777777777778,
              "#fb9f3a"
             ],
             [
              0.8888888888888888,
              "#fdca26"
             ],
             [
              1,
              "#f0f921"
             ]
            ],
            "type": "heatmap"
           }
          ],
          "heatmapgl": [
           {
            "colorbar": {
             "outlinewidth": 0,
             "ticks": ""
            },
            "colorscale": [
             [
              0,
              "#0d0887"
             ],
             [
              0.1111111111111111,
              "#46039f"
             ],
             [
              0.2222222222222222,
              "#7201a8"
             ],
             [
              0.3333333333333333,
              "#9c179e"
             ],
             [
              0.4444444444444444,
              "#bd3786"
             ],
             [
              0.5555555555555556,
              "#d8576b"
             ],
             [
              0.6666666666666666,
              "#ed7953"
             ],
             [
              0.7777777777777778,
              "#fb9f3a"
             ],
             [
              0.8888888888888888,
              "#fdca26"
             ],
             [
              1,
              "#f0f921"
             ]
            ],
            "type": "heatmapgl"
           }
          ],
          "histogram": [
           {
            "marker": {
             "pattern": {
              "fillmode": "overlay",
              "size": 10,
              "solidity": 0.2
             }
            },
            "type": "histogram"
           }
          ],
          "histogram2d": [
           {
            "colorbar": {
             "outlinewidth": 0,
             "ticks": ""
            },
            "colorscale": [
             [
              0,
              "#0d0887"
             ],
             [
              0.1111111111111111,
              "#46039f"
             ],
             [
              0.2222222222222222,
              "#7201a8"
             ],
             [
              0.3333333333333333,
              "#9c179e"
             ],
             [
              0.4444444444444444,
              "#bd3786"
             ],
             [
              0.5555555555555556,
              "#d8576b"
             ],
             [
              0.6666666666666666,
              "#ed7953"
             ],
             [
              0.7777777777777778,
              "#fb9f3a"
             ],
             [
              0.8888888888888888,
              "#fdca26"
             ],
             [
              1,
              "#f0f921"
             ]
            ],
            "type": "histogram2d"
           }
          ],
          "histogram2dcontour": [
           {
            "colorbar": {
             "outlinewidth": 0,
             "ticks": ""
            },
            "colorscale": [
             [
              0,
              "#0d0887"
             ],
             [
              0.1111111111111111,
              "#46039f"
             ],
             [
              0.2222222222222222,
              "#7201a8"
             ],
             [
              0.3333333333333333,
              "#9c179e"
             ],
             [
              0.4444444444444444,
              "#bd3786"
             ],
             [
              0.5555555555555556,
              "#d8576b"
             ],
             [
              0.6666666666666666,
              "#ed7953"
             ],
             [
              0.7777777777777778,
              "#fb9f3a"
             ],
             [
              0.8888888888888888,
              "#fdca26"
             ],
             [
              1,
              "#f0f921"
             ]
            ],
            "type": "histogram2dcontour"
           }
          ],
          "mesh3d": [
           {
            "colorbar": {
             "outlinewidth": 0,
             "ticks": ""
            },
            "type": "mesh3d"
           }
          ],
          "parcoords": [
           {
            "line": {
             "colorbar": {
              "outlinewidth": 0,
              "ticks": ""
             }
            },
            "type": "parcoords"
           }
          ],
          "pie": [
           {
            "automargin": true,
            "type": "pie"
           }
          ],
          "scatter": [
           {
            "fillpattern": {
             "fillmode": "overlay",
             "size": 10,
             "solidity": 0.2
            },
            "type": "scatter"
           }
          ],
          "scatter3d": [
           {
            "line": {
             "colorbar": {
              "outlinewidth": 0,
              "ticks": ""
             }
            },
            "marker": {
             "colorbar": {
              "outlinewidth": 0,
              "ticks": ""
             }
            },
            "type": "scatter3d"
           }
          ],
          "scattercarpet": [
           {
            "marker": {
             "colorbar": {
              "outlinewidth": 0,
              "ticks": ""
             }
            },
            "type": "scattercarpet"
           }
          ],
          "scattergeo": [
           {
            "marker": {
             "colorbar": {
              "outlinewidth": 0,
              "ticks": ""
             }
            },
            "type": "scattergeo"
           }
          ],
          "scattergl": [
           {
            "marker": {
             "colorbar": {
              "outlinewidth": 0,
              "ticks": ""
             }
            },
            "type": "scattergl"
           }
          ],
          "scattermapbox": [
           {
            "marker": {
             "colorbar": {
              "outlinewidth": 0,
              "ticks": ""
             }
            },
            "type": "scattermapbox"
           }
          ],
          "scatterpolar": [
           {
            "marker": {
             "colorbar": {
              "outlinewidth": 0,
              "ticks": ""
             }
            },
            "type": "scatterpolar"
           }
          ],
          "scatterpolargl": [
           {
            "marker": {
             "colorbar": {
              "outlinewidth": 0,
              "ticks": ""
             }
            },
            "type": "scatterpolargl"
           }
          ],
          "scatterternary": [
           {
            "marker": {
             "colorbar": {
              "outlinewidth": 0,
              "ticks": ""
             }
            },
            "type": "scatterternary"
           }
          ],
          "surface": [
           {
            "colorbar": {
             "outlinewidth": 0,
             "ticks": ""
            },
            "colorscale": [
             [
              0,
              "#0d0887"
             ],
             [
              0.1111111111111111,
              "#46039f"
             ],
             [
              0.2222222222222222,
              "#7201a8"
             ],
             [
              0.3333333333333333,
              "#9c179e"
             ],
             [
              0.4444444444444444,
              "#bd3786"
             ],
             [
              0.5555555555555556,
              "#d8576b"
             ],
             [
              0.6666666666666666,
              "#ed7953"
             ],
             [
              0.7777777777777778,
              "#fb9f3a"
             ],
             [
              0.8888888888888888,
              "#fdca26"
             ],
             [
              1,
              "#f0f921"
             ]
            ],
            "type": "surface"
           }
          ],
          "table": [
           {
            "cells": {
             "fill": {
              "color": "#EBF0F8"
             },
             "line": {
              "color": "white"
             }
            },
            "header": {
             "fill": {
              "color": "#C8D4E3"
             },
             "line": {
              "color": "white"
             }
            },
            "type": "table"
           }
          ]
         },
         "layout": {
          "annotationdefaults": {
           "arrowcolor": "#2a3f5f",
           "arrowhead": 0,
           "arrowwidth": 1
          },
          "autotypenumbers": "strict",
          "coloraxis": {
           "colorbar": {
            "outlinewidth": 0,
            "ticks": ""
           }
          },
          "colorscale": {
           "diverging": [
            [
             0,
             "#8e0152"
            ],
            [
             0.1,
             "#c51b7d"
            ],
            [
             0.2,
             "#de77ae"
            ],
            [
             0.3,
             "#f1b6da"
            ],
            [
             0.4,
             "#fde0ef"
            ],
            [
             0.5,
             "#f7f7f7"
            ],
            [
             0.6,
             "#e6f5d0"
            ],
            [
             0.7,
             "#b8e186"
            ],
            [
             0.8,
             "#7fbc41"
            ],
            [
             0.9,
             "#4d9221"
            ],
            [
             1,
             "#276419"
            ]
           ],
           "sequential": [
            [
             0,
             "#0d0887"
            ],
            [
             0.1111111111111111,
             "#46039f"
            ],
            [
             0.2222222222222222,
             "#7201a8"
            ],
            [
             0.3333333333333333,
             "#9c179e"
            ],
            [
             0.4444444444444444,
             "#bd3786"
            ],
            [
             0.5555555555555556,
             "#d8576b"
            ],
            [
             0.6666666666666666,
             "#ed7953"
            ],
            [
             0.7777777777777778,
             "#fb9f3a"
            ],
            [
             0.8888888888888888,
             "#fdca26"
            ],
            [
             1,
             "#f0f921"
            ]
           ],
           "sequentialminus": [
            [
             0,
             "#0d0887"
            ],
            [
             0.1111111111111111,
             "#46039f"
            ],
            [
             0.2222222222222222,
             "#7201a8"
            ],
            [
             0.3333333333333333,
             "#9c179e"
            ],
            [
             0.4444444444444444,
             "#bd3786"
            ],
            [
             0.5555555555555556,
             "#d8576b"
            ],
            [
             0.6666666666666666,
             "#ed7953"
            ],
            [
             0.7777777777777778,
             "#fb9f3a"
            ],
            [
             0.8888888888888888,
             "#fdca26"
            ],
            [
             1,
             "#f0f921"
            ]
           ]
          },
          "colorway": [
           "#636efa",
           "#EF553B",
           "#00cc96",
           "#ab63fa",
           "#FFA15A",
           "#19d3f3",
           "#FF6692",
           "#B6E880",
           "#FF97FF",
           "#FECB52"
          ],
          "font": {
           "color": "#2a3f5f"
          },
          "geo": {
           "bgcolor": "white",
           "lakecolor": "white",
           "landcolor": "#E5ECF6",
           "showlakes": true,
           "showland": true,
           "subunitcolor": "white"
          },
          "hoverlabel": {
           "align": "left"
          },
          "hovermode": "closest",
          "mapbox": {
           "style": "light"
          },
          "paper_bgcolor": "white",
          "plot_bgcolor": "#E5ECF6",
          "polar": {
           "angularaxis": {
            "gridcolor": "white",
            "linecolor": "white",
            "ticks": ""
           },
           "bgcolor": "#E5ECF6",
           "radialaxis": {
            "gridcolor": "white",
            "linecolor": "white",
            "ticks": ""
           }
          },
          "scene": {
           "xaxis": {
            "backgroundcolor": "#E5ECF6",
            "gridcolor": "white",
            "gridwidth": 2,
            "linecolor": "white",
            "showbackground": true,
            "ticks": "",
            "zerolinecolor": "white"
           },
           "yaxis": {
            "backgroundcolor": "#E5ECF6",
            "gridcolor": "white",
            "gridwidth": 2,
            "linecolor": "white",
            "showbackground": true,
            "ticks": "",
            "zerolinecolor": "white"
           },
           "zaxis": {
            "backgroundcolor": "#E5ECF6",
            "gridcolor": "white",
            "gridwidth": 2,
            "linecolor": "white",
            "showbackground": true,
            "ticks": "",
            "zerolinecolor": "white"
           }
          },
          "shapedefaults": {
           "line": {
            "color": "#2a3f5f"
           }
          },
          "ternary": {
           "aaxis": {
            "gridcolor": "white",
            "linecolor": "white",
            "ticks": ""
           },
           "baxis": {
            "gridcolor": "white",
            "linecolor": "white",
            "ticks": ""
           },
           "bgcolor": "#E5ECF6",
           "caxis": {
            "gridcolor": "white",
            "linecolor": "white",
            "ticks": ""
           }
          },
          "title": {
           "x": 0.05
          },
          "xaxis": {
           "automargin": true,
           "gridcolor": "white",
           "linecolor": "white",
           "ticks": "",
           "title": {
            "standoff": 15
           },
           "zerolinecolor": "white",
           "zerolinewidth": 2
          },
          "yaxis": {
           "automargin": true,
           "gridcolor": "white",
           "linecolor": "white",
           "ticks": "",
           "title": {
            "standoff": 15
           },
           "zerolinecolor": "white",
           "zerolinewidth": 2
          }
         }
        },
        "title": {
         "text": "Biểu đồ thống kê lượng khí CO2 thải ra theo từng năm"
        }
       }
      }
     },
     "metadata": {},
     "output_type": "display_data"
    }
   ],
   "source": [
    "# Lấy các cột số\n",
    "value_cols = {'avg_co2_emissions_from_coal': 'Thải CO2 từ than', 'avg_co2_emissions_from_gas': 'Thải CO2 từ gas', 'avg_co2_emissions_from_oil': 'Thải CO2 từ dầu'}\n",
    "\n",
    "# Tạo stacked bar chart layout\n",
    "layout = go.Layout(title='Biểu đồ thống kê lượng khí CO2 thải ra theo từng năm', barmode='stack')\n",
    "\n",
    "# Tạo danh sách lưu các trace\n",
    "traces = []\n",
    "for key, value in value_cols.items():\n",
    "    trace = go.Bar(x=co2_by_year['year'], y=co2_by_year[key], name=value)\n",
    "    traces.append(trace)\n",
    "\n",
    "# Vẽ bar chart\n",
    "fig = go.Figure(data=traces, layout=layout)\n",
    "\n",
    "# Thêm line trace\n",
    "fig.add_trace(go.Scatter(x=co2_by_year['year'], y=co2_by_year['avg_co2_emissions'], mode='lines+markers', name='Xu hướng thải CO2'))\n",
    "fig.show()\n"
   ]
  },
  {
   "cell_type": "markdown",
   "metadata": {},
   "source": [
    "Biểu đồ cho thấy số liệu thống kê về lượng khí thải CO2 từ năm 2000 đến 2021, được phân loại theo các nguồn sản xuất năng lượng khác nhau. Dữ liệu này cho thấy tổng lượng khí thải CO2 hàng năm, cũng như từng lượng khí thải CO2 từ dầu, khí đốt, và than đá.\n",
    "\n",
    "Dữ liệu về lượng khí thải CO2 từ sản xuất năng lượng cho thấy một số điểm quan trọng:\n",
    "\n",
    "- **Sự gia tăng liên tục:** Có một xu hướng tăng trưởng liên tục trong lượng khí thải CO2 qua các năm, điều này phản ánh sự phụ thuộc mạnh mẽ vào nhiên liệu hóa thạch như than đá, dầu mỏ và khí đốt.\n",
    "\n",
    "- **Ảnh hưởng của các nguồn năng lượng:** Dữ liệu cũng cho thấy sự khác biệt về mức độ góp phần của từng loại nhiên liệu đến tổng lượng khí thải, trong đó than đá thường chiếm tỷ lệ cao nhất.\n",
    "\n",
    "Thông qua biểu đồ này, chúng ta có thể nhận thấy một mô hình nhất quán trong mức độ phát thải và hiểu rõ hơn về ảnh hưởng của các loại năng lượng khác nhau đối với ô nhiễm môi trường. Điều này cung cấp cái nhìn sâu sắc về tác động của việc sử dụng năng lượng và là cơ sở quan trọng để đánh giá và phát triển các chiến lược giảm thiểu khí thải CO2 trong tương lai."
   ]
  },
  {
   "cell_type": "markdown",
   "metadata": {},
   "source": [
    "Tính phù hợp của biểu đồ đối với các trường dữ liệu được chọn:\n",
    "- Để có thể nhanh chóng nhận biết xu hướng lượng CO2 thải ra theo từng năm như thế nào -> Line chart\n",
    "- Để biết được những loại năng lượng nào phát thải nhiều hay ít; so sánh mức phát thải của các loại năng lượng so với tổng thể  -> Stacked bar chart"
   ]
  },
  {
   "cell_type": "markdown",
   "metadata": {},
   "source": [
    "### Câu hỏi 2: Lượng khí thải CO2 ở các quốc gia trên thế giới chênh lệch như thế nào?"
   ]
  },
  {
   "cell_type": "code",
   "execution_count": 22,
   "metadata": {
    "tags": []
   },
   "outputs": [
    {
     "data": {
      "text/html": [
       "<div>\n",
       "<style scoped>\n",
       "    .dataframe tbody tr th:only-of-type {\n",
       "        vertical-align: middle;\n",
       "    }\n",
       "\n",
       "    .dataframe tbody tr th {\n",
       "        vertical-align: top;\n",
       "    }\n",
       "\n",
       "    .dataframe thead th {\n",
       "        text-align: right;\n",
       "    }\n",
       "</style>\n",
       "<table border=\"1\" class=\"dataframe\">\n",
       "  <thead>\n",
       "    <tr style=\"text-align: right;\">\n",
       "      <th></th>\n",
       "      <th>country</th>\n",
       "      <th>avg_co2_emissions</th>\n",
       "    </tr>\n",
       "  </thead>\n",
       "  <tbody>\n",
       "    <tr>\n",
       "      <th>0</th>\n",
       "      <td>Afghanistan</td>\n",
       "      <td>6959944.62</td>\n",
       "    </tr>\n",
       "    <tr>\n",
       "      <th>1</th>\n",
       "      <td>Albania</td>\n",
       "      <td>4541640.32</td>\n",
       "    </tr>\n",
       "    <tr>\n",
       "      <th>2</th>\n",
       "      <td>Algeria</td>\n",
       "      <td>130034914.18</td>\n",
       "    </tr>\n",
       "    <tr>\n",
       "      <th>3</th>\n",
       "      <td>Angola</td>\n",
       "      <td>20108535.00</td>\n",
       "    </tr>\n",
       "    <tr>\n",
       "      <th>4</th>\n",
       "      <td>Antigua and Barbuda</td>\n",
       "      <td>530589.32</td>\n",
       "    </tr>\n",
       "    <tr>\n",
       "      <th>...</th>\n",
       "      <td>...</td>\n",
       "      <td>...</td>\n",
       "    </tr>\n",
       "    <tr>\n",
       "      <th>194</th>\n",
       "      <td>Venezuela</td>\n",
       "      <td>144817838.18</td>\n",
       "    </tr>\n",
       "    <tr>\n",
       "      <th>195</th>\n",
       "      <td>Vietnam</td>\n",
       "      <td>165444032.91</td>\n",
       "    </tr>\n",
       "    <tr>\n",
       "      <th>196</th>\n",
       "      <td>Yemen</td>\n",
       "      <td>18634445.27</td>\n",
       "    </tr>\n",
       "    <tr>\n",
       "      <th>197</th>\n",
       "      <td>Zambia</td>\n",
       "      <td>4171764.32</td>\n",
       "    </tr>\n",
       "    <tr>\n",
       "      <th>198</th>\n",
       "      <td>Zimbabwe</td>\n",
       "      <td>10360832.86</td>\n",
       "    </tr>\n",
       "  </tbody>\n",
       "</table>\n",
       "<p>199 rows × 2 columns</p>\n",
       "</div>"
      ],
      "text/plain": [
       "                 country  avg_co2_emissions\n",
       "0            Afghanistan         6959944.62\n",
       "1                Albania         4541640.32\n",
       "2                Algeria       130034914.18\n",
       "3                 Angola        20108535.00\n",
       "4    Antigua and Barbuda          530589.32\n",
       "..                   ...                ...\n",
       "194            Venezuela       144817838.18\n",
       "195              Vietnam       165444032.91\n",
       "196                Yemen        18634445.27\n",
       "197               Zambia         4171764.32\n",
       "198             Zimbabwe        10360832.86\n",
       "\n",
       "[199 rows x 2 columns]"
      ]
     },
     "execution_count": 22,
     "metadata": {},
     "output_type": "execute_result"
    }
   ],
   "source": [
    "# Lấy trung bình lượng khí thải CO2 theo từng quốc gia\n",
    "co2_by_country = raw_df.groupby('country')['co2_emissions'].agg(avg_co2_emissions='mean').reset_index()\n",
    "co2_by_country"
   ]
  },
  {
   "cell_type": "code",
   "execution_count": 23,
   "metadata": {
    "tags": []
   },
   "outputs": [
    {
     "data": {
      "application/vnd.plotly.v1+json": {
       "config": {
        "plotlyServerURL": "https://plot.ly"
       },
       "data": [
        {
         "coloraxis": "coloraxis",
         "geo": "geo",
         "hovertemplate": "<b>%{hovertext}</b><br><br>iso_a3=%{location}<br>avg_co2_emissions=%{z}<extra></extra>",
         "hovertext": [
          "Fiji",
          "Tanzania",
          null,
          "Canada",
          null,
          "Kazakhstan",
          "Uzbekistan",
          "Papua New Guinea",
          "Indonesia",
          "Argentina",
          "Chile",
          null,
          "Somalia",
          "Kenya",
          "Sudan",
          "Chad",
          "Haiti",
          null,
          "Russia",
          "Bahamas",
          null,
          "Norway",
          "Greenland",
          null,
          null,
          "South Africa",
          "Lesotho",
          "Mexico",
          "Uruguay",
          "Brazil",
          "Bolivia",
          "Peru",
          "Colombia",
          "Panama",
          "Costa Rica",
          "Nicaragua",
          "Honduras",
          "El Salvador",
          "Guatemala",
          "Belize",
          "Venezuela",
          "Guyana",
          "Suriname",
          "France",
          "Ecuador",
          null,
          "Jamaica",
          "Cuba",
          "Zimbabwe",
          "Botswana",
          "Namibia",
          "Senegal",
          "Mali",
          "Mauritania",
          "Benin",
          "Niger",
          "Nigeria",
          "Cameroon",
          "Togo",
          "Ghana",
          null,
          "Guinea",
          "Guinea-Bissau",
          "Liberia",
          "Sierra Leone",
          "Burkina Faso",
          null,
          "Congo",
          "Gabon",
          null,
          "Zambia",
          "Malawi",
          "Mozambique",
          null,
          "Angola",
          "Burundi",
          "Israel",
          "Lebanon",
          "Madagascar",
          "Palestine",
          "Gambia",
          "Tunisia",
          "Algeria",
          "Jordan",
          "United Arab Emirates",
          "Qatar",
          "Kuwait",
          "Iraq",
          "Oman",
          "Vanuatu",
          "Cambodia",
          "Thailand",
          "Laos",
          "Myanmar",
          "Vietnam",
          "North Korea",
          "South Korea",
          "Mongolia",
          "India",
          "Bangladesh",
          "Bhutan",
          "Nepal",
          "Pakistan",
          "Afghanistan",
          "Tajikistan",
          "Kyrgyzstan",
          "Turkmenistan",
          "Iran",
          "Syria",
          "Armenia",
          "Sweden",
          "Belarus",
          "Ukraine",
          "Poland",
          "Austria",
          "Hungary",
          "Moldova",
          "Romania",
          "Lithuania",
          "Latvia",
          "Estonia",
          "Germany",
          "Bulgaria",
          "Greece",
          "Turkey",
          "Albania",
          "Croatia",
          null,
          "Luxembourg",
          "Belgium",
          "Netherlands",
          "Portugal",
          "Spain",
          "Ireland",
          "New Caledonia",
          null,
          "New Zealand",
          "Australia",
          "Sri Lanka",
          "China",
          "Taiwan",
          "Italy",
          "Denmark",
          "United Kingdom",
          "Iceland",
          "Azerbaijan",
          "Georgia",
          "Philippines",
          "Malaysia",
          "Brunei",
          "Slovenia",
          "Finland",
          "Slovakia",
          "Czechia",
          "Eritrea",
          "Japan",
          "Paraguay",
          "Yemen",
          null,
          null,
          null,
          "Cyprus",
          "Morocco",
          "Egypt",
          "Libya",
          "Ethiopia",
          "Djibouti",
          null,
          "Uganda",
          "Rwanda",
          null,
          "North Macedonia",
          "Serbia",
          "Montenegro",
          "Kosovo",
          "Trinidad and Tobago",
          null
         ],
         "locations": [
          "FJI",
          "TZA",
          "ESH",
          "CAN",
          "USA",
          "KAZ",
          "UZB",
          "PNG",
          "IDN",
          "ARG",
          "CHL",
          "COD",
          "SOM",
          "KEN",
          "SDN",
          "TCD",
          "HTI",
          "DOM",
          "RUS",
          "BHS",
          "FLK",
          "NOR",
          "GRL",
          "ATF",
          "TLS",
          "ZAF",
          "LSO",
          "MEX",
          "URY",
          "BRA",
          "BOL",
          "PER",
          "COL",
          "PAN",
          "CRI",
          "NIC",
          "HND",
          "SLV",
          "GTM",
          "BLZ",
          "VEN",
          "GUY",
          "SUR",
          "FRA",
          "ECU",
          "PRI",
          "JAM",
          "CUB",
          "ZWE",
          "BWA",
          "NAM",
          "SEN",
          "MLI",
          "MRT",
          "BEN",
          "NER",
          "NGA",
          "CMR",
          "TGO",
          "GHA",
          "CIV",
          "GIN",
          "GNB",
          "LBR",
          "SLE",
          "BFA",
          "CAF",
          "COG",
          "GAB",
          "GNQ",
          "ZMB",
          "MWI",
          "MOZ",
          "SWZ",
          "AGO",
          "BDI",
          "ISR",
          "LBN",
          "MDG",
          "PSE",
          "GMB",
          "TUN",
          "DZA",
          "JOR",
          "ARE",
          "QAT",
          "KWT",
          "IRQ",
          "OMN",
          "VUT",
          "KHM",
          "THA",
          "LAO",
          "MMR",
          "VNM",
          "PRK",
          "KOR",
          "MNG",
          "IND",
          "BGD",
          "BTN",
          "NPL",
          "PAK",
          "AFG",
          "TJK",
          "KGZ",
          "TKM",
          "IRN",
          "SYR",
          "ARM",
          "SWE",
          "BLR",
          "UKR",
          "POL",
          "AUT",
          "HUN",
          "MDA",
          "ROU",
          "LTU",
          "LVA",
          "EST",
          "DEU",
          "BGR",
          "GRC",
          "TUR",
          "ALB",
          "HRV",
          "CHE",
          "LUX",
          "BEL",
          "NLD",
          "PRT",
          "ESP",
          "IRL",
          "NCL",
          "SLB",
          "NZL",
          "AUS",
          "LKA",
          "CHN",
          "TWN",
          "ITA",
          "DNK",
          "GBR",
          "ISL",
          "AZE",
          "GEO",
          "PHL",
          "MYS",
          "BRN",
          "SVN",
          "FIN",
          "SVK",
          "CZE",
          "ERI",
          "JPN",
          "PRY",
          "YEM",
          "SAU",
          "ATA",
          "CYN",
          "CYP",
          "MAR",
          "EGY",
          "LBY",
          "ETH",
          "DJI",
          "SOL",
          "UGA",
          "RWA",
          "BIH",
          "MKD",
          "SRB",
          "MNE",
          "-99",
          "TTO",
          "SSD"
         ],
         "name": "",
         "type": "choropleth",
         "z": [
          1110504.6363636365,
          7912658.181818182,
          null,
          565612309.0909091,
          null,
          232142892.72727272,
          116911987.9090909,
          5668564.681818182,
          453568887.27272725,
          172529025.45454547,
          72587344,
          null,
          595828.9090909091,
          13473161.909090908,
          15003955.636363637,
          1517528.3636363635,
          2247469.1818181816,
          null,
          1617795404.5454545,
          2114349.0454545454,
          null,
          43845909.09090909,
          602549.5909090909,
          null,
          null,
          440271932.72727275,
          2255857.8636363638,
          460290471.3636364,
          6506945.318181818,
          435013369.09090906,
          15806342.863636363,
          40783818.54545455,
          76305628.54545455,
          8942037.136363637,
          7228285.681818182,
          4655552.045454546,
          8477252.863636363,
          6433108.318181818,
          13494801.454545455,
          516125.04545454547,
          144817838.1818182,
          2087190.0909090908,
          2343908.3181818184,
          364994552.27272725,
          34101875.90909091,
          null,
          8943947.227272727,
          26508074.272727273,
          10360832.863636363,
          5050417.2727272725,
          2939130.909090909,
          7419583.636363637,
          2893393,
          2334996.6818181816,
          4560611.5,
          1490848.7272727273,
          105989950.72727273,
          7792526.636363637,
          1933979.5909090908,
          10916396.590909092,
          null,
          2481137.409090909,
          242593.72727272726,
          654704.2272727273,
          747403.2272727273,
          2687378.227272727,
          null,
          5137477.818181818,
          5938779,
          null,
          4171764.3181818184,
          1138168.5454545454,
          4044837.272727273,
          null,
          20108535,
          355788.5,
          61974069.54545455,
          20624518.545454547,
          2604918.9545454546,
          2424817.6818181816,
          457769.1818181818,
          26569804.636363637,
          130034914.18181819,
          21475295.727272727,
          111813100,
          73882854,
          84725398,
          126828558.36363636,
          50489821.45454545,
          120644,
          7290846.045454546,
          239467522.27272728,
          7373172.909090909,
          17332218.136363637,
          165444032.9090909,
          53484429.45454545,
          568586603.1818181,
          22216240.954545453,
          1771596808.6363637,
          58195064.45454545,
          747990.0909090909,
          6700249.090909091,
          158972790.9090909,
          6959944.619047619,
          4275399.909090909,
          7613884.454545454,
          55921271.09090909,
          553156063.6363636,
          44706537.90909091,
          4970831.636363637,
          48419897.18181818,
          59791612.36363637,
          277455632.27272725,
          323011693.6363636,
          70058762.27272727,
          52830229.63636363,
          4817682.818181818,
          90069917.27272727,
          13457846.318181818,
          7629708.136363637,
          16507270.590909092,
          817596285.9090909,
          47305582.18181818,
          91072372.72727273,
          330551063.1818182,
          4541640.318181818,
          20317165,
          null,
          10188753.045454545,
          111019136.63636364,
          167008528.63636363,
          56127999,
          294955131.3636364,
          41961073.09090909,
          3784901.227272727,
          null,
          35410096.36363637,
          393687331.8181818,
          15391173.318181818,
          8052166627.272727,
          266921461.8181818,
          418251298.6363636,
          45006209.36363637,
          481913582.72727275,
          3379961.4545454546,
          32710579,
          7285663.090909091,
          95655904.27272727,
          204825723.63636363,
          7903287.318181818,
          15513452.227272727,
          54728000.18181818,
          38179392.09090909,
          114682047.72727273,
          600098.1818181818,
          1224631777.2727273,
          5461677.181818182,
          18634445.272727273,
          null,
          null,
          null,
          7525953.045454546,
          52474545.36363637,
          200667603,
          55344364.54545455,
          9405320.181818182,
          433523.7727272727,
          null,
          3484317.5454545454,
          797827.9090909091,
          null,
          7931987.681818182,
          46891142.625,
          2228176,
          8082201.357142857,
          39585625.18181818,
          null
         ]
        }
       ],
       "layout": {
        "coloraxis": {
         "colorbar": {
          "title": {
           "text": "avg_co2_emissions"
          }
         },
         "colorscale": [
          [
           0,
           "#0d0887"
          ],
          [
           0.1111111111111111,
           "#46039f"
          ],
          [
           0.2222222222222222,
           "#7201a8"
          ],
          [
           0.3333333333333333,
           "#9c179e"
          ],
          [
           0.4444444444444444,
           "#bd3786"
          ],
          [
           0.5555555555555556,
           "#d8576b"
          ],
          [
           0.6666666666666666,
           "#ed7953"
          ],
          [
           0.7777777777777778,
           "#fb9f3a"
          ],
          [
           0.8888888888888888,
           "#fdca26"
          ],
          [
           1,
           "#f0f921"
          ]
         ]
        },
        "geo": {
         "center": {},
         "domain": {
          "x": [
           0,
           1
          ],
          "y": [
           0,
           1
          ]
         },
         "projection": {
          "type": "natural earth"
         }
        },
        "legend": {
         "tracegroupgap": 0
        },
        "margin": {
         "b": 0,
         "l": 0,
         "r": 0,
         "t": 40
        },
        "template": {
         "data": {
          "bar": [
           {
            "error_x": {
             "color": "#2a3f5f"
            },
            "error_y": {
             "color": "#2a3f5f"
            },
            "marker": {
             "line": {
              "color": "#E5ECF6",
              "width": 0.5
             },
             "pattern": {
              "fillmode": "overlay",
              "size": 10,
              "solidity": 0.2
             }
            },
            "type": "bar"
           }
          ],
          "barpolar": [
           {
            "marker": {
             "line": {
              "color": "#E5ECF6",
              "width": 0.5
             },
             "pattern": {
              "fillmode": "overlay",
              "size": 10,
              "solidity": 0.2
             }
            },
            "type": "barpolar"
           }
          ],
          "carpet": [
           {
            "aaxis": {
             "endlinecolor": "#2a3f5f",
             "gridcolor": "white",
             "linecolor": "white",
             "minorgridcolor": "white",
             "startlinecolor": "#2a3f5f"
            },
            "baxis": {
             "endlinecolor": "#2a3f5f",
             "gridcolor": "white",
             "linecolor": "white",
             "minorgridcolor": "white",
             "startlinecolor": "#2a3f5f"
            },
            "type": "carpet"
           }
          ],
          "choropleth": [
           {
            "colorbar": {
             "outlinewidth": 0,
             "ticks": ""
            },
            "type": "choropleth"
           }
          ],
          "contour": [
           {
            "colorbar": {
             "outlinewidth": 0,
             "ticks": ""
            },
            "colorscale": [
             [
              0,
              "#0d0887"
             ],
             [
              0.1111111111111111,
              "#46039f"
             ],
             [
              0.2222222222222222,
              "#7201a8"
             ],
             [
              0.3333333333333333,
              "#9c179e"
             ],
             [
              0.4444444444444444,
              "#bd3786"
             ],
             [
              0.5555555555555556,
              "#d8576b"
             ],
             [
              0.6666666666666666,
              "#ed7953"
             ],
             [
              0.7777777777777778,
              "#fb9f3a"
             ],
             [
              0.8888888888888888,
              "#fdca26"
             ],
             [
              1,
              "#f0f921"
             ]
            ],
            "type": "contour"
           }
          ],
          "contourcarpet": [
           {
            "colorbar": {
             "outlinewidth": 0,
             "ticks": ""
            },
            "type": "contourcarpet"
           }
          ],
          "heatmap": [
           {
            "colorbar": {
             "outlinewidth": 0,
             "ticks": ""
            },
            "colorscale": [
             [
              0,
              "#0d0887"
             ],
             [
              0.1111111111111111,
              "#46039f"
             ],
             [
              0.2222222222222222,
              "#7201a8"
             ],
             [
              0.3333333333333333,
              "#9c179e"
             ],
             [
              0.4444444444444444,
              "#bd3786"
             ],
             [
              0.5555555555555556,
              "#d8576b"
             ],
             [
              0.6666666666666666,
              "#ed7953"
             ],
             [
              0.7777777777777778,
              "#fb9f3a"
             ],
             [
              0.8888888888888888,
              "#fdca26"
             ],
             [
              1,
              "#f0f921"
             ]
            ],
            "type": "heatmap"
           }
          ],
          "heatmapgl": [
           {
            "colorbar": {
             "outlinewidth": 0,
             "ticks": ""
            },
            "colorscale": [
             [
              0,
              "#0d0887"
             ],
             [
              0.1111111111111111,
              "#46039f"
             ],
             [
              0.2222222222222222,
              "#7201a8"
             ],
             [
              0.3333333333333333,
              "#9c179e"
             ],
             [
              0.4444444444444444,
              "#bd3786"
             ],
             [
              0.5555555555555556,
              "#d8576b"
             ],
             [
              0.6666666666666666,
              "#ed7953"
             ],
             [
              0.7777777777777778,
              "#fb9f3a"
             ],
             [
              0.8888888888888888,
              "#fdca26"
             ],
             [
              1,
              "#f0f921"
             ]
            ],
            "type": "heatmapgl"
           }
          ],
          "histogram": [
           {
            "marker": {
             "pattern": {
              "fillmode": "overlay",
              "size": 10,
              "solidity": 0.2
             }
            },
            "type": "histogram"
           }
          ],
          "histogram2d": [
           {
            "colorbar": {
             "outlinewidth": 0,
             "ticks": ""
            },
            "colorscale": [
             [
              0,
              "#0d0887"
             ],
             [
              0.1111111111111111,
              "#46039f"
             ],
             [
              0.2222222222222222,
              "#7201a8"
             ],
             [
              0.3333333333333333,
              "#9c179e"
             ],
             [
              0.4444444444444444,
              "#bd3786"
             ],
             [
              0.5555555555555556,
              "#d8576b"
             ],
             [
              0.6666666666666666,
              "#ed7953"
             ],
             [
              0.7777777777777778,
              "#fb9f3a"
             ],
             [
              0.8888888888888888,
              "#fdca26"
             ],
             [
              1,
              "#f0f921"
             ]
            ],
            "type": "histogram2d"
           }
          ],
          "histogram2dcontour": [
           {
            "colorbar": {
             "outlinewidth": 0,
             "ticks": ""
            },
            "colorscale": [
             [
              0,
              "#0d0887"
             ],
             [
              0.1111111111111111,
              "#46039f"
             ],
             [
              0.2222222222222222,
              "#7201a8"
             ],
             [
              0.3333333333333333,
              "#9c179e"
             ],
             [
              0.4444444444444444,
              "#bd3786"
             ],
             [
              0.5555555555555556,
              "#d8576b"
             ],
             [
              0.6666666666666666,
              "#ed7953"
             ],
             [
              0.7777777777777778,
              "#fb9f3a"
             ],
             [
              0.8888888888888888,
              "#fdca26"
             ],
             [
              1,
              "#f0f921"
             ]
            ],
            "type": "histogram2dcontour"
           }
          ],
          "mesh3d": [
           {
            "colorbar": {
             "outlinewidth": 0,
             "ticks": ""
            },
            "type": "mesh3d"
           }
          ],
          "parcoords": [
           {
            "line": {
             "colorbar": {
              "outlinewidth": 0,
              "ticks": ""
             }
            },
            "type": "parcoords"
           }
          ],
          "pie": [
           {
            "automargin": true,
            "type": "pie"
           }
          ],
          "scatter": [
           {
            "fillpattern": {
             "fillmode": "overlay",
             "size": 10,
             "solidity": 0.2
            },
            "type": "scatter"
           }
          ],
          "scatter3d": [
           {
            "line": {
             "colorbar": {
              "outlinewidth": 0,
              "ticks": ""
             }
            },
            "marker": {
             "colorbar": {
              "outlinewidth": 0,
              "ticks": ""
             }
            },
            "type": "scatter3d"
           }
          ],
          "scattercarpet": [
           {
            "marker": {
             "colorbar": {
              "outlinewidth": 0,
              "ticks": ""
             }
            },
            "type": "scattercarpet"
           }
          ],
          "scattergeo": [
           {
            "marker": {
             "colorbar": {
              "outlinewidth": 0,
              "ticks": ""
             }
            },
            "type": "scattergeo"
           }
          ],
          "scattergl": [
           {
            "marker": {
             "colorbar": {
              "outlinewidth": 0,
              "ticks": ""
             }
            },
            "type": "scattergl"
           }
          ],
          "scattermapbox": [
           {
            "marker": {
             "colorbar": {
              "outlinewidth": 0,
              "ticks": ""
             }
            },
            "type": "scattermapbox"
           }
          ],
          "scatterpolar": [
           {
            "marker": {
             "colorbar": {
              "outlinewidth": 0,
              "ticks": ""
             }
            },
            "type": "scatterpolar"
           }
          ],
          "scatterpolargl": [
           {
            "marker": {
             "colorbar": {
              "outlinewidth": 0,
              "ticks": ""
             }
            },
            "type": "scatterpolargl"
           }
          ],
          "scatterternary": [
           {
            "marker": {
             "colorbar": {
              "outlinewidth": 0,
              "ticks": ""
             }
            },
            "type": "scatterternary"
           }
          ],
          "surface": [
           {
            "colorbar": {
             "outlinewidth": 0,
             "ticks": ""
            },
            "colorscale": [
             [
              0,
              "#0d0887"
             ],
             [
              0.1111111111111111,
              "#46039f"
             ],
             [
              0.2222222222222222,
              "#7201a8"
             ],
             [
              0.3333333333333333,
              "#9c179e"
             ],
             [
              0.4444444444444444,
              "#bd3786"
             ],
             [
              0.5555555555555556,
              "#d8576b"
             ],
             [
              0.6666666666666666,
              "#ed7953"
             ],
             [
              0.7777777777777778,
              "#fb9f3a"
             ],
             [
              0.8888888888888888,
              "#fdca26"
             ],
             [
              1,
              "#f0f921"
             ]
            ],
            "type": "surface"
           }
          ],
          "table": [
           {
            "cells": {
             "fill": {
              "color": "#EBF0F8"
             },
             "line": {
              "color": "white"
             }
            },
            "header": {
             "fill": {
              "color": "#C8D4E3"
             },
             "line": {
              "color": "white"
             }
            },
            "type": "table"
           }
          ]
         },
         "layout": {
          "annotationdefaults": {
           "arrowcolor": "#2a3f5f",
           "arrowhead": 0,
           "arrowwidth": 1
          },
          "autotypenumbers": "strict",
          "coloraxis": {
           "colorbar": {
            "outlinewidth": 0,
            "ticks": ""
           }
          },
          "colorscale": {
           "diverging": [
            [
             0,
             "#8e0152"
            ],
            [
             0.1,
             "#c51b7d"
            ],
            [
             0.2,
             "#de77ae"
            ],
            [
             0.3,
             "#f1b6da"
            ],
            [
             0.4,
             "#fde0ef"
            ],
            [
             0.5,
             "#f7f7f7"
            ],
            [
             0.6,
             "#e6f5d0"
            ],
            [
             0.7,
             "#b8e186"
            ],
            [
             0.8,
             "#7fbc41"
            ],
            [
             0.9,
             "#4d9221"
            ],
            [
             1,
             "#276419"
            ]
           ],
           "sequential": [
            [
             0,
             "#0d0887"
            ],
            [
             0.1111111111111111,
             "#46039f"
            ],
            [
             0.2222222222222222,
             "#7201a8"
            ],
            [
             0.3333333333333333,
             "#9c179e"
            ],
            [
             0.4444444444444444,
             "#bd3786"
            ],
            [
             0.5555555555555556,
             "#d8576b"
            ],
            [
             0.6666666666666666,
             "#ed7953"
            ],
            [
             0.7777777777777778,
             "#fb9f3a"
            ],
            [
             0.8888888888888888,
             "#fdca26"
            ],
            [
             1,
             "#f0f921"
            ]
           ],
           "sequentialminus": [
            [
             0,
             "#0d0887"
            ],
            [
             0.1111111111111111,
             "#46039f"
            ],
            [
             0.2222222222222222,
             "#7201a8"
            ],
            [
             0.3333333333333333,
             "#9c179e"
            ],
            [
             0.4444444444444444,
             "#bd3786"
            ],
            [
             0.5555555555555556,
             "#d8576b"
            ],
            [
             0.6666666666666666,
             "#ed7953"
            ],
            [
             0.7777777777777778,
             "#fb9f3a"
            ],
            [
             0.8888888888888888,
             "#fdca26"
            ],
            [
             1,
             "#f0f921"
            ]
           ]
          },
          "colorway": [
           "#636efa",
           "#EF553B",
           "#00cc96",
           "#ab63fa",
           "#FFA15A",
           "#19d3f3",
           "#FF6692",
           "#B6E880",
           "#FF97FF",
           "#FECB52"
          ],
          "font": {
           "color": "#2a3f5f"
          },
          "geo": {
           "bgcolor": "white",
           "lakecolor": "white",
           "landcolor": "#E5ECF6",
           "showlakes": true,
           "showland": true,
           "subunitcolor": "white"
          },
          "hoverlabel": {
           "align": "left"
          },
          "hovermode": "closest",
          "mapbox": {
           "style": "light"
          },
          "paper_bgcolor": "white",
          "plot_bgcolor": "#E5ECF6",
          "polar": {
           "angularaxis": {
            "gridcolor": "white",
            "linecolor": "white",
            "ticks": ""
           },
           "bgcolor": "#E5ECF6",
           "radialaxis": {
            "gridcolor": "white",
            "linecolor": "white",
            "ticks": ""
           }
          },
          "scene": {
           "xaxis": {
            "backgroundcolor": "#E5ECF6",
            "gridcolor": "white",
            "gridwidth": 2,
            "linecolor": "white",
            "showbackground": true,
            "ticks": "",
            "zerolinecolor": "white"
           },
           "yaxis": {
            "backgroundcolor": "#E5ECF6",
            "gridcolor": "white",
            "gridwidth": 2,
            "linecolor": "white",
            "showbackground": true,
            "ticks": "",
            "zerolinecolor": "white"
           },
           "zaxis": {
            "backgroundcolor": "#E5ECF6",
            "gridcolor": "white",
            "gridwidth": 2,
            "linecolor": "white",
            "showbackground": true,
            "ticks": "",
            "zerolinecolor": "white"
           }
          },
          "shapedefaults": {
           "line": {
            "color": "#2a3f5f"
           }
          },
          "ternary": {
           "aaxis": {
            "gridcolor": "white",
            "linecolor": "white",
            "ticks": ""
           },
           "baxis": {
            "gridcolor": "white",
            "linecolor": "white",
            "ticks": ""
           },
           "bgcolor": "#E5ECF6",
           "caxis": {
            "gridcolor": "white",
            "linecolor": "white",
            "ticks": ""
           }
          },
          "title": {
           "x": 0.05
          },
          "xaxis": {
           "automargin": true,
           "gridcolor": "white",
           "linecolor": "white",
           "ticks": "",
           "title": {
            "standoff": 15
           },
           "zerolinecolor": "white",
           "zerolinewidth": 2
          },
          "yaxis": {
           "automargin": true,
           "gridcolor": "white",
           "linecolor": "white",
           "ticks": "",
           "title": {
            "standoff": 15
           },
           "zerolinecolor": "white",
           "zerolinewidth": 2
          }
         }
        },
        "title": {
         "text": "Lượng khí CO2 trung bình thải ra ở các quốc gia"
        }
       }
      }
     },
     "metadata": {},
     "output_type": "display_data"
    }
   ],
   "source": [
    "# Tạo world map\n",
    "world = gpd.read_file(gpd.datasets.get_path('naturalearth_lowres'))\n",
    "\n",
    "# Kết hợp world map với dữ liệu co2_by_country\n",
    "merged = world.merge(co2_by_country, left_on='name', right_on='country', how='left')\n",
    "\n",
    "#  Cấu hình choropleth map\n",
    "fig = px.choropleth(merged, \n",
    "                    locations='iso_a3',  # ISO Alpha-3 (mã quốc gia)\n",
    "                    color='avg_co2_emissions',  # Chỉnh màu dựa vào cột avg_co2_emissions\n",
    "                    hover_name='country',  # Thông tin khi di chuột vào quốc gia\n",
    "                    projection='natural earth',\n",
    "                    title='Lượng khí CO2 trung bình thải ra ở các quốc gia')\n",
    "\n",
    "fig.update_layout(margin={\"r\":0,\"t\":40,\"l\":0,\"b\":0})\n",
    "\n",
    "\n",
    "# Show the plot\n",
    "fig.show()\n"
   ]
  },
  {
   "cell_type": "markdown",
   "metadata": {},
   "source": [
    "Biểu đồ bạn cung cấp mô tả lượng khí CO2 trung bình thải ra ở các quốc gia, với màu sắc khác nhau đại diện cho lượng thải khác nhau. Dựa vào biểu đồ này, ta có thể nhận xét:\n",
    "\n",
    "- **Sự chênh lệch lớn**: Có sự chênh lệch đáng kể về lượng khí thải CO2 giữa các quốc gia, điều này có thể phản ánh mức độ công nghiệp hóa, quy mô dân số, và chính sách môi trường của từng quốc gia.\n",
    "- **Mối quan hệ với phát triển**: Các quốc gia có lượng khí thải cao thường là những nước có nền kinh tế phát triển mạnh, cho thấy mối liên hệ giữa phát triển kinh tế và lượng khí thải CO2.\n",
    "- **Cần thiết phải hành động**: Biểu đồ nhấn mạnh tầm quan trọng của việc giảm thiểu khí thải CO2, đặc biệt là từ các quốc gia có lượng thải lớn, để đối phó với biến đổi khí hậu toàn cầu.\n",
    "\n",
    "Nhìn chung, biểu đồ cung cấp cái nhìn tổng quan về tình hình khí thải CO2 toàn cầu và gợi ý về nhu cầu cải thiện chính sách môi trường và phát triển bền vững."
   ]
  },
  {
   "cell_type": "markdown",
   "metadata": {},
   "source": [
    "Tính phù hợp của biểu đồ đối với các trường dữ liệu được chọn:\n",
    "- Để so sánh được lượng mức khí thải CO2 trung bình của từng quốc gia -> Geo map chart"
   ]
  },
  {
   "cell_type": "markdown",
   "metadata": {},
   "source": [
    "### Câu hỏi 3: Lượng năng lượng được tạo ra từ các nguồn khác nhau và các nước có tổng lượng đứng đầu từ năm 2000 đến năm 2021?"
   ]
  },
  {
   "cell_type": "code",
   "execution_count": 24,
   "metadata": {},
   "outputs": [
    {
     "data": {
      "image/png": "[encoded data removed]",
      "text/plain": [
       "<Figure size 1500x1500 with 9 Axes>"
      ]
     },
     "metadata": {},
     "output_type": "display_data"
    }
   ],
   "source": [
    "grouped = raw_df.groupby(['country', 'year']).sum()\n",
    "\n",
    "# Plot the data for each energy source\n",
    "energy_sources = ['Other renewables excluding bioenergy  (Twh)', 'bioenergy_electricity',\n",
    "       'solar_electricity', 'wind_electricity', 'hydro_electricity',\n",
    "       'nuclear_electricity', 'oil_electricity', 'gas_electricity',\n",
    "       'coal_electricity']\n",
    "\n",
    "fig, axs = plt.subplots(3, 3, figsize=(15, 15))  # Adjust the figure size if necessary\n",
    "axs = axs.flatten()  # Flatten the axes array\n",
    "\n",
    "totals = raw_df.groupby('country')[energy_sources].sum()\n",
    "for i, source in enumerate(energy_sources):\n",
    "    top_countries = totals[source].nlargest(5).index\n",
    " \n",
    "    for country in top_countries:\n",
    "        data = raw_df[raw_df['country'] == country]\n",
    "        data = data.sort_values('year')  \n",
    "        axs[i].plot(data['year'], data[source], label=country)\n",
    "\n",
    "    axs[i].set_title(f'{source}')\n",
    "    axs[i].set_xlabel('Year')\n",
    "    axs[i].set_ylabel('Electricity generation (Twh)')\n",
    "    axs[i].set_xticks(range(min(data['year']), max(data['year'])+1, 1))\n",
    "    axs[i].legend()\n",
    "    axs[i].tick_params(axis='x', rotation = 45) \n",
    "\n",
    "\n",
    "plt.tight_layout()\n",
    "plt.show()"
   ]

  },
  {
   "cell_type": "markdown",
   "metadata": {},
   "source": [
    "TODO: ... "
   ]
  },
  {
   "cell_type": "markdown",
   "metadata": {},
   "source": [
    "### Câu 4: Có sự khác biệt nào giữa các quốc gia có dân số đông và các quốc gia có dân số ít về tỷ trọng tiêu thụ điện năng từ năm 2020?"
   ]
  },
  {
   "cell_type": "markdown",
   "metadata": {},
   "source": [
    "Tạo DataFrame gồm Top 5 quốc gia có dân số đông nhất và Top 5 quốc gia có dân số ít nhất."
   ]
  },
  {
   "cell_type": "code",
   "execution_count": 61,
   "metadata": {},
   "outputs": [
    {
     "data": {
      "text/html": [
       "<div>\n",
       "<style scoped>\n",
       "    .dataframe tbody tr th:only-of-type {\n",
       "        vertical-align: middle;\n",
       "    }\n",
       "\n",
       "    .dataframe tbody tr th {\n",
       "        vertical-align: top;\n",
       "    }\n",
       "\n",
       "    .dataframe thead th {\n",
       "        text-align: right;\n",
       "    }\n",
       "</style>\n",
       "<table border=\"1\" class=\"dataframe\">\n",
       "  <thead>\n",
       "    <tr style=\"text-align: right;\">\n",
       "      <th></th>\n",
       "      <th>country</th>\n",
       "      <th>code</th>\n",
       "      <th>year</th>\n",
       "      <th>population</th>\n",
       "      <th>Other renewables excluding bioenergy  (Twh)</th>\n",
       "      <th>bioenergy_electricity</th>\n",
       "      <th>solar_electricity</th>\n",
       "      <th>wind_electricity</th>\n",
       "      <th>hydro_electricity</th>\n",
       "      <th>nuclear_electricity</th>\n",
       "      <th>...</th>\n",
       "      <th>co2_emissions</th>\n",
       "      <th>co2_relativity_percent</th>\n",
       "      <th>co2_emissions_per_person</th>\n",
       "      <th>co2_emissions_from_coal</th>\n",
       "      <th>co2_emissions_from_gas</th>\n",
       "      <th>co2_emissions_from_oil</th>\n",
       "      <th>access_to_electricity_percent</th>\n",
       "      <th>access_to_electricity_percentile</th>\n",
       "      <th>access_to_electricity_population</th>\n",
       "      <th>primary_energy_consumption_per_capita</th>\n",
       "    </tr>\n",
       "  </thead>\n",
       "  <tbody>\n",
       "    <tr>\n",
       "      <th>777</th>\n",
       "      <td>China</td>\n",
       "      <td>CHN</td>\n",
       "      <td>2000</td>\n",
       "      <td>1264099100</td>\n",
       "      <td>0.00</td>\n",
       "      <td>2.54</td>\n",
       "      <td>0.02</td>\n",
       "      <td>0.59</td>\n",
       "      <td>222.41</td>\n",
       "      <td>16.74</td>\n",
       "      <td>...</td>\n",
       "      <td>3649201000</td>\n",
       "      <td>0</td>\n",
       "      <td>2.89</td>\n",
       "      <td>2601736700</td>\n",
       "      <td>59796480</td>\n",
       "      <td>648685600</td>\n",
       "      <td>100.00</td>\n",
       "      <td>1.00</td>\n",
       "      <td>1264099100</td>\n",
       "      <td>9335.00</td>\n",
       "    </tr>\n",
       "    <tr>\n",
       "      <th>778</th>\n",
       "      <td>China</td>\n",
       "      <td>CHN</td>\n",
       "      <td>2001</td>\n",
       "      <td>1272739600</td>\n",
       "      <td>0.00</td>\n",
       "      <td>2.55</td>\n",
       "      <td>0.03</td>\n",
       "      <td>0.72</td>\n",
       "      <td>277.43</td>\n",
       "      <td>17.47</td>\n",
       "      <td>...</td>\n",
       "      <td>3728513500</td>\n",
       "      <td>2</td>\n",
       "      <td>2.93</td>\n",
       "      <td>2637655000</td>\n",
       "      <td>67157460</td>\n",
       "      <td>659300160</td>\n",
       "      <td>100.00</td>\n",
       "      <td>1.00</td>\n",
       "      <td>1272739600</td>\n",
       "      <td>9798.00</td>\n",
       "    </tr>\n",
       "    <tr>\n",
       "      <th>779</th>\n",
       "      <td>China</td>\n",
       "      <td>CHN</td>\n",
       "      <td>2002</td>\n",
       "      <td>1280926100</td>\n",
       "      <td>0.00</td>\n",
       "      <td>2.55</td>\n",
       "      <td>0.05</td>\n",
       "      <td>0.84</td>\n",
       "      <td>287.97</td>\n",
       "      <td>25.13</td>\n",
       "      <td>...</td>\n",
       "      <td>4103042600</td>\n",
       "      <td>10</td>\n",
       "      <td>3.20</td>\n",
       "      <td>3018634000</td>\n",
       "      <td>53992704</td>\n",
       "      <td>653086000</td>\n",
       "      <td>100.00</td>\n",
       "      <td>1.00</td>\n",
       "      <td>1280926100</td>\n",
       "      <td>10602.00</td>\n",
       "    </tr>\n",
       "    <tr>\n",
       "      <th>780</th>\n",
       "      <td>China</td>\n",
       "      <td>CHN</td>\n",
       "      <td>2003</td>\n",
       "      <td>1288873300</td>\n",
       "      <td>0.00</td>\n",
       "      <td>2.54</td>\n",
       "      <td>0.06</td>\n",
       "      <td>1.00</td>\n",
       "      <td>283.68</td>\n",
       "      <td>43.34</td>\n",
       "      <td>...</td>\n",
       "      <td>4841118700</td>\n",
       "      <td>18</td>\n",
       "      <td>3.76</td>\n",
       "      <td>3601711900</td>\n",
       "      <td>60745456</td>\n",
       "      <td>727098800</td>\n",
       "      <td>100.00</td>\n",
       "      <td>1.00</td>\n",
       "      <td>1288873300</td>\n",
       "      <td>12273.00</td>\n",
       "    </tr>\n",
       "    <tr>\n",
       "      <th>781</th>\n",
       "      <td>China</td>\n",
       "      <td>CHN</td>\n",
       "      <td>2004</td>\n",
       "      <td>1296816800</td>\n",
       "      <td>0.00</td>\n",
       "      <td>2.53</td>\n",
       "      <td>0.08</td>\n",
       "      <td>1.28</td>\n",
       "      <td>353.54</td>\n",
       "      <td>50.47</td>\n",
       "      <td>...</td>\n",
       "      <td>5217351000</td>\n",
       "      <td>8</td>\n",
       "      <td>4.02</td>\n",
       "      <td>3835288300</td>\n",
       "      <td>71521280</td>\n",
       "      <td>839092700</td>\n",
       "      <td>100.00</td>\n",
       "      <td>1.00</td>\n",
       "      <td>1296816800</td>\n",
       "      <td>14273.00</td>\n",
       "    </tr>\n",
       "    <tr>\n",
       "      <th>...</th>\n",
       "      <td>...</td>\n",
       "      <td>...</td>\n",
       "      <td>...</td>\n",
       "      <td>...</td>\n",
       "      <td>...</td>\n",
       "      <td>...</td>\n",
       "      <td>...</td>\n",
       "      <td>...</td>\n",
       "      <td>...</td>\n",
       "      <td>...</td>\n",
       "      <td>...</td>\n",
       "      <td>...</td>\n",
       "      <td>...</td>\n",
       "      <td>...</td>\n",
       "      <td>...</td>\n",
       "      <td>...</td>\n",
       "      <td>...</td>\n",
       "      <td>...</td>\n",
       "      <td>...</td>\n",
       "      <td>...</td>\n",
       "      <td>...</td>\n",
       "    </tr>\n",
       "    <tr>\n",
       "      <th>4126</th>\n",
       "      <td>United States</td>\n",
       "      <td>USA</td>\n",
       "      <td>2003</td>\n",
       "      <td>291109820</td>\n",
       "      <td>16.85</td>\n",
       "      <td>53.34</td>\n",
       "      <td>0.53</td>\n",
       "      <td>11.19</td>\n",
       "      <td>267.27</td>\n",
       "      <td>763.73</td>\n",
       "      <td>...</td>\n",
       "      <td>6010145300</td>\n",
       "      <td>0</td>\n",
       "      <td>20.65</td>\n",
       "      <td>2143993000</td>\n",
       "      <td>1201023100</td>\n",
       "      <td>2557467400</td>\n",
       "      <td>43.00</td>\n",
       "      <td>0.43</td>\n",
       "      <td>125177223</td>\n",
       "      <td>80583.00</td>\n",
       "    </tr>\n",
       "    <tr>\n",
       "      <th>4127</th>\n",
       "      <td>United States</td>\n",
       "      <td>USA</td>\n",
       "      <td>2006</td>\n",
       "      <td>299753100</td>\n",
       "      <td>16.51</td>\n",
       "      <td>54.86</td>\n",
       "      <td>0.51</td>\n",
       "      <td>26.59</td>\n",
       "      <td>282.69</td>\n",
       "      <td>787.22</td>\n",
       "      <td>...</td>\n",
       "      <td>6052686000</td>\n",
       "      <td>1</td>\n",
       "      <td>20.19</td>\n",
       "      <td>2152458800</td>\n",
       "      <td>1173211400</td>\n",
       "      <td>2609707800</td>\n",
       "      <td>34.17</td>\n",
       "      <td>0.34</td>\n",
       "      <td>102434159</td>\n",
       "      <td>76989.00</td>\n",
       "    </tr>\n",
       "    <tr>\n",
       "      <th>4128</th>\n",
       "      <td>United States</td>\n",
       "      <td>USA</td>\n",
       "      <td>2004</td>\n",
       "      <td>293947870</td>\n",
       "      <td>16.95</td>\n",
       "      <td>53.54</td>\n",
       "      <td>0.58</td>\n",
       "      <td>14.14</td>\n",
       "      <td>259.93</td>\n",
       "      <td>788.53</td>\n",
       "      <td>...</td>\n",
       "      <td>6112655000</td>\n",
       "      <td>1</td>\n",
       "      <td>20.80</td>\n",
       "      <td>2164772900</td>\n",
       "      <td>1204496000</td>\n",
       "      <td>2630825500</td>\n",
       "      <td>44.52</td>\n",
       "      <td>0.45</td>\n",
       "      <td>130878746</td>\n",
       "      <td>79489.00</td>\n",
       "    </tr>\n",
       "    <tr>\n",
       "      <th>4129</th>\n",
       "      <td>United States</td>\n",
       "      <td>USA</td>\n",
       "      <td>2007</td>\n",
       "      <td>302743400</td>\n",
       "      <td>16.70</td>\n",
       "      <td>55.54</td>\n",
       "      <td>0.61</td>\n",
       "      <td>34.45</td>\n",
       "      <td>240.61</td>\n",
       "      <td>806.42</td>\n",
       "      <td>...</td>\n",
       "      <td>6130123000</td>\n",
       "      <td>0</td>\n",
       "      <td>20.25</td>\n",
       "      <td>2175189000</td>\n",
       "      <td>1247391000</td>\n",
       "      <td>2592216300</td>\n",
       "      <td>34.20</td>\n",
       "      <td>0.34</td>\n",
       "      <td>103538243</td>\n",
       "      <td>359735.00</td>\n",
       "    </tr>\n",
       "    <tr>\n",
       "      <th>4130</th>\n",
       "      <td>United States</td>\n",
       "      <td>USA</td>\n",
       "      <td>2005</td>\n",
       "      <td>296842660</td>\n",
       "      <td>16.64</td>\n",
       "      <td>54.28</td>\n",
       "      <td>0.55</td>\n",
       "      <td>17.81</td>\n",
       "      <td>263.76</td>\n",
       "      <td>781.99</td>\n",
       "      <td>...</td>\n",
       "      <td>6132183000</td>\n",
       "      <td>0</td>\n",
       "      <td>20.66</td>\n",
       "      <td>2188244200</td>\n",
       "      <td>1186858100</td>\n",
       "      <td>2642691800</td>\n",
       "      <td>33.65</td>\n",
       "      <td>0.34</td>\n",
       "      <td>99902071</td>\n",
       "      <td>73236.00</td>\n",
       "    </tr>\n",
       "  </tbody>\n",
       "</table>\n",
       "<p>110 rows × 23 columns</p>\n",
       "</div>"
      ],
      "text/plain": [
       "            country code  year  population  \\\n",
       "777           China  CHN  2000  1264099100   \n",
       "778           China  CHN  2001  1272739600   \n",
       "779           China  CHN  2002  1280926100   \n",
       "780           China  CHN  2003  1288873300   \n",
       "781           China  CHN  2004  1296816800   \n",
       "...             ...  ...   ...         ...   \n",
       "4126  United States  USA  2003   291109820   \n",
       "4127  United States  USA  2006   299753100   \n",
       "4128  United States  USA  2004   293947870   \n",
       "4129  United States  USA  2007   302743400   \n",
       "4130  United States  USA  2005   296842660   \n",
       "\n",
       "      Other renewables excluding bioenergy  (Twh)  bioenergy_electricity  \\\n",
       "777                                          0.00                   2.54   \n",
       "778                                          0.00                   2.55   \n",
       "779                                          0.00                   2.55   \n",
       "780                                          0.00                   2.54   \n",
       "781                                          0.00                   2.53   \n",
       "...                                           ...                    ...   \n",
       "4126                                        16.85                  53.34   \n",
       "4127                                        16.51                  54.86   \n",
       "4128                                        16.95                  53.54   \n",
       "4129                                        16.70                  55.54   \n",
       "4130                                        16.64                  54.28   \n",
       "\n",
       "      solar_electricity  wind_electricity  hydro_electricity  \\\n",
       "777                0.02              0.59             222.41   \n",
       "778                0.03              0.72             277.43   \n",
       "779                0.05              0.84             287.97   \n",
       "780                0.06              1.00             283.68   \n",
       "781                0.08              1.28             353.54   \n",
       "...                 ...               ...                ...   \n",
       "4126               0.53             11.19             267.27   \n",
       "4127               0.51             26.59             282.69   \n",
       "4128               0.58             14.14             259.93   \n",
       "4129               0.61             34.45             240.61   \n",
       "4130               0.55             17.81             263.76   \n",
       "\n",
       "      nuclear_electricity  ...  co2_emissions  co2_relativity_percent  \\\n",
       "777                 16.74  ...     3649201000                       0   \n",
       "778                 17.47  ...     3728513500                       2   \n",
       "779                 25.13  ...     4103042600                      10   \n",
       "780                 43.34  ...     4841118700                      18   \n",
       "781                 50.47  ...     5217351000                       8   \n",
       "...                   ...  ...            ...                     ...   \n",
       "4126               763.73  ...     6010145300                       0   \n",
       "4127               787.22  ...     6052686000                       1   \n",
       "4128               788.53  ...     6112655000                       1   \n",
       "4129               806.42  ...     6130123000                       0   \n",
       "4130               781.99  ...     6132183000                       0   \n",
       "\n",
       "      co2_emissions_per_person  co2_emissions_from_coal  \\\n",
       "777                       2.89               2601736700   \n",
       "778                       2.93               2637655000   \n",
       "779                       3.20               3018634000   \n",
       "780                       3.76               3601711900   \n",
       "781                       4.02               3835288300   \n",
       "...                        ...                      ...   \n",
       "4126                     20.65               2143993000   \n",
       "4127                     20.19               2152458800   \n",
       "4128                     20.80               2164772900   \n",
       "4129                     20.25               2175189000   \n",
       "4130                     20.66               2188244200   \n",
       "\n",
       "      co2_emissions_from_gas  co2_emissions_from_oil  \\\n",
       "777                 59796480               648685600   \n",
       "778                 67157460               659300160   \n",
       "779                 53992704               653086000   \n",
       "780                 60745456               727098800   \n",
       "781                 71521280               839092700   \n",
       "...                      ...                     ...   \n",
       "4126              1201023100              2557467400   \n",
       "4127              1173211400              2609707800   \n",
       "4128              1204496000              2630825500   \n",
       "4129              1247391000              2592216300   \n",
       "4130              1186858100              2642691800   \n",
       "\n",
       "      access_to_electricity_percent  access_to_electricity_percentile  \\\n",
       "777                          100.00                              1.00   \n",
       "778                          100.00                              1.00   \n",
       "779                          100.00                              1.00   \n",
       "780                          100.00                              1.00   \n",
       "781                          100.00                              1.00   \n",
       "...                             ...                               ...   \n",
       "4126                          43.00                              0.43   \n",
       "4127                          34.17                              0.34   \n",
       "4128                          44.52                              0.45   \n",
       "4129                          34.20                              0.34   \n",
       "4130                          33.65                              0.34   \n",
       "\n",
       "      access_to_electricity_population  primary_energy_consumption_per_capita  \n",
       "777                         1264099100                                9335.00  \n",
       "778                         1272739600                                9798.00  \n",
       "779                         1280926100                               10602.00  \n",
       "780                         1288873300                               12273.00  \n",
       "781                         1296816800                               14273.00  \n",
       "...                                ...                                    ...  \n",
       "4126                         125177223                               80583.00  \n",
       "4127                         102434159                               76989.00  \n",
       "4128                         130878746                               79489.00  \n",
       "4129                         103538243                              359735.00  \n",
       "4130                          99902071                               73236.00  \n",
       "\n",
       "[110 rows x 23 columns]"
      ]
     },
     "execution_count": 61,
     "metadata": {},
     "output_type": "execute_result"
    }
   ],
   "source": [
    "top5_largest = raw_df[raw_df['country'].isin(raw_df.groupby('country')['population'].max().nlargest(5).index)]\n",
    "top5_smallest = raw_df[raw_df['country'].isin(raw_df.groupby('country')['population'].max().nsmallest(5).index)]\n",
    "top5_largest"
   ]
  },
  {
   "cell_type": "markdown",
   "metadata": {},
   "source": [
    "Để vẽ radar chart:\n",
    "\n",
    "- Chuẩn hóa dữ liệu: chuẩn hóa thành phạm vi từ 0 đến 1 bằng cách sử dụng **MinMaxScaler** từ thư viện **sklearn**. Điều này đảm bảo tất cả các biến đều có cùng tỷ lệ cho biểu đồ radar.\n",
    "- Tính toán góc: Các góc cho trục biểu đồ radar được tính bằng radian với số trục bằng số nguồn điện."
   ]
  },
  {
   "cell_type": "code",
   "execution_count": 67,
   "metadata": {},
   "outputs": [
    {
     "data": {
      "image/png": "[encoded data removed]",
      "text/plain": [
       "<Figure size 500x500 with 1 Axes>"
      ]
     },
     "metadata": {},
     "output_type": "display_data"
    },
    {
     "data": {
      "image/png": "[encoded data removed]",
      "text/plain": [
       "<Figure size 500x500 with 1 Axes>"
      ]
     },
     "metadata": {},
     "output_type": "display_data"
    }
   ],
   "source": [
    "# Chọn các cột điện năng\n",
    "columns = ['Other renewables excluding bioenergy  (Twh)', 'bioenergy_electricity',\n",
    "       'solar_electricity', 'wind_electricity', 'hydro_electricity',\n",
    "       'nuclear_electricity', 'oil_electricity', 'gas_electricity',\n",
    "       'coal_electricity']\n",
    "\n",
    "# Lấy trung bình các giá trị điện năng từ năm 2020 để dễ plot\n",
    "data1 = top5_largest[top5_largest['year']>=2020].groupby('country')[columns].mean()\n",
    "data2 = top5_smallest[top5_smallest['year']>=2020].groupby('country')[columns].mean()\n",
    "\n",
    "def radar_chart(data):\n",
    "    # Chuẩn hóa\n",
    "    scaler = MinMaxScaler()\n",
    "    data_normalized = scaler.fit_transform(data)\n",
    "\n",
    "    # Tính toán góc\n",
    "    N = len(data.columns)\n",
    "    angles = [n / float(N) * 2 * np.pi for n in range(N)]\n",
    "    angles += angles[:1]\n",
    "\n",
    "    fig, ax = plt.subplots(figsize=(5, 5), subplot_kw=dict(polar=True))\n",
    "\n",
    "    for i in range(data_normalized.shape[0]):\n",
    "        values = data_normalized[i].tolist()\n",
    "        values += values[:1]\n",
    "        ax.plot(angles, values, linewidth=1, linestyle='solid', label=data.index[i])\n",
    "        ax.fill(angles, values, 'b', alpha=0.1)\n",
    "\n",
    "    plt.xticks(angles[:-1], data.columns, color='grey', size=8)\n",
    "    plt.legend(loc='upper right', bbox_to_anchor=(0.1, 0.1))\n",
    "    plt.title('Electricity Cosumption by Source for Top 5 Countries with Largest Population')\n",
    "    plt.show()\n",
    "\n",
    "\n",
    "radar_chart(data1)\n",
    "radar_chart(data2)"
   ]
  },
  {
   "cell_type": "markdown",
   "metadata": {},
   "source": [
    "**NHẬN XÉT:** \n",
    "\n",
    "1. **Sản xuất điện theo nguồn cho 5 quốc gia có dân số lớn nhất**: \n",
    "    - Biểu đồ cho thấy sự cân đối giữa các nguồn năng lượng, cho thấy những quốc gia này đã đa dạng hóa việc sản xuất điện của mình qua nhiều nguồn vì vậy người dân có thể sử dụng được nhiều nguồn khác nhau. Đây là xu hướng tích cực vì nó làm giảm sự phụ thuộc vào một nguồn duy nhất và thúc đẩy việc sử dụng năng lượng tái tạo.\n",
    "    - Các quốc gia không chú trọng phát triển một loại năng lượng nào giống nhau, mỗi quôc gia có thế mạnh riêng.\n",
    "    - Tuy nhiên India, Indonesia, Pakistan tiêu thụ ít loại điện năng so với China, US nên trên biểu đồ các mạng lưới thể hiện của các quốc gia này nhỏ.\n",
    "\n",
    "2. **Sản xuất điện theo nguồn cho 5 quốc gia có dân số nhỏ nhất**: \n",
    "    - Một đường (có thể đại diện cho một nguồn năng lượng) chiếm ưu thế trong biểu đồ này, cho thấy những quốc gia này phụ thuộc nặng nề vào một loại sản xuất năng lượng có thể do vị trí địa lý và nguồn tài nguyên sẵn có khan hiếm.\n",
    "\n",
    "\n",
    "Nhìn chung, các quốc gia, bất kể kích thước dân số, đang đa dạng hóa nguồn năng lượng của mình, giảm sự phụ thuộc vào một nguồn duy nhất và thúc đẩy việc sử dụng năng lượng tái tạo.\n",
    "Các quốc gia có dân số lớn hơn có xu hướng có sự cân đối hơn trong việc sử dụng các nguồn năng lượng khác nhau so với các quốc gia có dân số nhỏ hơn, có thể do hạn chế về nguồn lực và cơ sở hạ tầng.\n",
    "Biểu đồ cho thấy rằng năng lượng tái tạo đang chiếm một phần lớn trong cấu trúc năng lượng của nhiều quốc gia, cho thấy xu hướng toàn cầu hướng tới việc sử dụng năng lượng bền vững.\n"
   ]
  },
  {
   "cell_type": "markdown",
   "metadata": {},
   "source": [
    "Tính phù hợp của biểu đồ đối với các trường dữ liệu được chọn:\n",
    "- Để có thể nhận biết và so sánh tỷ trọng các nguồn điện năng của các quốc gia -> Radar chart"
   ]
  }
 ],
 "metadata": {
  "kernelspec": {
   "display_name": "Python 3 (ipykernel)",
   "language": "python",
   "name": "python3"
  },
  "language_info": {
   "codemirror_mode": {
    "name": "ipython",
    "version": 3
   },
   "file_extension": ".py",
   "mimetype": "text/x-python",
   "name": "python",
   "nbconvert_exporter": "python",
   "pygments_lexer": "ipython3",
   "version": "3.11.7"
  }
 },
 "nbformat": 4,
 "nbformat_minor": 4
}
